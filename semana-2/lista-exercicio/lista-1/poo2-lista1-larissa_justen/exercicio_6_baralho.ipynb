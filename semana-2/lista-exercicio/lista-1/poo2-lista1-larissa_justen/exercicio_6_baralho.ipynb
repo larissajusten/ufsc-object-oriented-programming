{
 "cells": [
  {
   "cell_type": "markdown",
   "id": "74148049-0ba0-469e-aa14-5e6882f962cf",
   "metadata": {},
   "source": [
    "**Descrição do exercício:**\n",
    "> Projete e implemente um baralho de cartas genérico, isto é, que poderia ser usado para implementar diversos jogos de carta."
   ]
  },
  {
   "cell_type": "code",
   "execution_count": 1,
   "id": "3efa5781-35ba-49c4-9698-03d417e6b3e9",
   "metadata": {},
   "outputs": [],
   "source": [
    "from enum import Enum\n",
    "from random import shuffle"
   ]
  },
  {
   "cell_type": "code",
   "execution_count": 2,
   "id": "6426f838-4ef3-4a77-95bf-33bc0026c40b",
   "metadata": {},
   "outputs": [],
   "source": [
    "class LocalNoBaralho(Enum):\n",
    "    BARALHO = 1\n",
    "    FORA_DO_BARALHO = 2"
   ]
  },
  {
   "cell_type": "code",
   "execution_count": 3,
   "id": "8047f03e-edde-4661-a427-15c4e78b2da3",
   "metadata": {},
   "outputs": [],
   "source": [
    "class Carta:\n",
    "    def __init__(self, numero: str, naipe: str):\n",
    "        self.__numero = numero\n",
    "        self.__naipe = naipe\n",
    "        self.local_da_carta = LocalNoBaralho.BARALHO.value\n",
    "\n",
    "    @property\n",
    "    def numero(self):\n",
    "        return self.__numero\n",
    "    \n",
    "    @property\n",
    "    def naipe(self):\n",
    "        return self.__naipe\n",
    "\n",
    "    @property\n",
    "    def local_da_carta(self):\n",
    "        return self.__local_da_carta\n",
    "\n",
    "    @local_da_carta.setter\n",
    "    def local_da_carta(self, local_da_carta):\n",
    "        self.__local_da_carta = local_da_carta\n",
    "    \n",
    "    def ModificarLocalDaCarta(self, novo_local):\n",
    "        self.local_da_carta = novo_local\n",
    "\n",
    "    def VisualizaInformacoesDaCarta(self):\n",
    "        return f'[{self.naipe}]: {self.numero}'"
   ]
  },
  {
   "cell_type": "code",
   "execution_count": 27,
   "id": "dba31a0e-7912-4451-b01f-5f0893d89502",
   "metadata": {},
   "outputs": [],
   "source": [
    "class Baralho:\n",
    "    def __init__(self):\n",
    "        self.__cartas = []\n",
    "\n",
    "    @property\n",
    "    def cartas(self):\n",
    "        return self.__cartas\n",
    "\n",
    "    @cartas.setter\n",
    "    def cartas(self, cartas):\n",
    "        self.__cartas = cartas\n",
    "\n",
    "    def __isEmpty(self):\n",
    "        if not self.cartas:\n",
    "            print('# BARALHO VAZIO')\n",
    "            return True\n",
    "        else:\n",
    "            return False\n",
    "\n",
    "    def AdicionarCartas(self, cartas):\n",
    "        self.cartas = cartas\n",
    "\n",
    "    def AdicionarUnicaCarta(self, carta, local = 'inicio'):\n",
    "        if self.__isEmpty():\n",
    "            self.AdicionarCartas([carta])\n",
    "        else:\n",
    "            if local == 'fim':\n",
    "                self.__cartas.append(carta)\n",
    "            else: \n",
    "                self.__cartas.insert(0, carta)\n",
    "        print(f'# Carta ({carta.naipe}: {carta.numero}) adicionada com sucesso!')\n",
    "\n",
    "    def RemoverUnicaCarta(self, local = 'inicio'):\n",
    "        if self.__isEmpty():\n",
    "            print(f'# Nao ha cartas para remover!')\n",
    "            return None\n",
    "        else:\n",
    "            carta = ''\n",
    "            if local == 'fim':\n",
    "                carta = self.cartas.pop(-1)\n",
    "            else:\n",
    "                carta = self.cartas.pop(0)\n",
    "            print(f'# Carta ({carta.naipe}: {carta.numero}) removida com sucesso!')\n",
    "            return carta\n",
    "    \n",
    "    def RemoverTodasCartas(self):\n",
    "        if self.__isEmpty():\n",
    "            print(f'# Nao ha cartas para remover!')\n",
    "            return None\n",
    "\n",
    "        self.cartas = []\n",
    "        print('# Cartas removidas com sucesso!')\n",
    "\n",
    "    def RetornarBaralho(self):\n",
    "        if self.__isEmpty():\n",
    "            return None\n",
    "\n",
    "        return {id(carta): carta for carta in self.cartas}\n",
    "\n",
    "    def VisualizarBaralho(self):\n",
    "        if self.__isEmpty():\n",
    "            return\n",
    "        print(f'# Total de cartas: {len(self.cartas)}')\n",
    "        for carta in self.cartas:\n",
    "            print(carta.VisualizaInformacoesDaCarta())\n",
    "\n",
    "    def VisualizarCartas(self, local = LocalNoBaralho.BARALHO.value):\n",
    "        if self.__isEmpty():\n",
    "            return\n",
    "        cartas = [carta for carta in self.cartas if carta.local_da_carta == local]\n",
    "        if not cartas:\n",
    "            return print(f'# Nao ha cartas no local selecionado.')\n",
    "        for carta in cartas:\n",
    "            print(carta.VisualizaInformacoesDaCarta())\n",
    "\n",
    "    def Embaralhar(self):\n",
    "        if self.__isEmpty():\n",
    "            return None\n",
    "\n",
    "        print('# Baralho embaralhado!')\n",
    "        shuffle(self.cartas)\n",
    "\n",
    "    def MoverTodasCartas(self, local = LocalNoBaralho.FORA_DO_BARALHO.value):\n",
    "        if self.__isEmpty():\n",
    "            return None\n",
    "        if local == LocalNoBaralho.BARALHO.value:\n",
    "            print('# Cartas movidas para o Baralho!')\n",
    "            for carta in self.cartas:\n",
    "                carta.ModificarLocalDaCarta(LocalNoBaralho.BARALHO.value)\n",
    "        else:\n",
    "            print('# Cartas movidas para fora do Baralho!')\n",
    "            for carta in self.cartas:\n",
    "                carta.ModificarLocalDaCarta(LocalNoBaralho.FORA_DO_BARALHO.value)"
   ]
  },
  {
   "cell_type": "markdown",
   "id": "0de6b574-ec10-49f2-a15c-0a4b101ce1d4",
   "metadata": {},
   "source": [
    "-----------------"
   ]
  },
  {
   "cell_type": "markdown",
   "id": "1b2dc39c-cee6-46ef-8f7f-36b54959a811",
   "metadata": {
    "tags": []
   },
   "source": [
    "#### 📌 Métodos auxiliares:\n",
    "- `PreCriacaoDeCartasParaBaralhoTeste()`: cria objetos do tipo `Carta` e adiciona as cartas no Baralho."
   ]
  },
  {
   "cell_type": "code",
   "execution_count": 6,
   "id": "5c1b332d-bd94-47e3-84c4-4498bfcccc08",
   "metadata": {},
   "outputs": [],
   "source": [
    "def PreCriacaoDeCartasParaBaralhoTeste():\n",
    "    cartas = []\n",
    "    naipes = ['ouro', 'paus', 'copas', 'espada']\n",
    "    numeros = range(1, 14)\n",
    "    for naipe in naipes:\n",
    "        for numero in numeros:\n",
    "            if numero == 1:\n",
    "                carta = Carta('A', naipe)\n",
    "            elif numero == 11:\n",
    "                carta = Carta('J', naipe)\n",
    "            elif numero == 12:\n",
    "                carta = Carta('Q', naipe)\n",
    "            elif numero == 13:\n",
    "                carta = Carta('K', naipe)\n",
    "            else:  \n",
    "                carta = Carta(numero, naipe)\n",
    "            cartas.append(carta)\n",
    "    return cartas"
   ]
  },
  {
   "cell_type": "code",
   "execution_count": 8,
   "id": "833f375b-4fe3-49ee-9919-de14ad100cf5",
   "metadata": {},
   "outputs": [],
   "source": [
    "def CriarConjunto(nome_conjunto: str):\n",
    "    nome = nome_conjunto.lower()\n",
    "    print(f'# Digite \"{nome}\" da carta a seguir e aperte [ENTER], para sair digite [Z]')\n",
    "\n",
    "    valores_do_conjunto = []\n",
    "    valor = ''\n",
    "    while valor != 'z':\n",
    "        valor = str(input(f'{nome} da carta: ')).lower()\n",
    "        if valor != 'z' and not valor.isspace():\n",
    "            valores_do_conjunto.append(valor)\n",
    "\n",
    "    return valores_do_conjunto"
   ]
  },
  {
   "cell_type": "code",
   "execution_count": 24,
   "id": "ac981564-28ac-458c-aa42-bf2b3a5781a7",
   "metadata": {},
   "outputs": [],
   "source": [
    "def CriarCartas(baralho):\n",
    "    print('# CRIAR CARTAS')\n",
    "    print('# Vamos comecar com os valores (numeros/letras)!')\n",
    "    valores = CriarConjunto('valor')\n",
    "\n",
    "    print('')\n",
    "    print('# Agora vamos adicionar os naipes!')\n",
    "    naipes = CriarConjunto('naipe')\n",
    "\n",
    "    cartas = []\n",
    "    if naipes and valores:\n",
    "        for naipe in naipes:\n",
    "            for valor in valores:\n",
    "                cartas.append(Carta(valor, naipe))\n",
    "    return cartas"
   ]
  },
  {
   "cell_type": "code",
   "execution_count": 42,
   "id": "41396ed6-3f5d-4eee-997a-c8c03d412cd7",
   "metadata": {},
   "outputs": [],
   "source": [
    "def CriarCarta():\n",
    "    print('# CRIAR CARTA')\n",
    "\n",
    "    valor = ''\n",
    "    naipe = ''\n",
    "\n",
    "    while not valor or valor.isspace():\n",
    "        valor = input('> Digite o valor da carta: ')\n",
    "    \n",
    "    while not naipe or naipe.isspace():\n",
    "        naipe = input('> Digite o naipe da carta: ')\n",
    "\n",
    "    return Carta(valor, naipe)"
   ]
  },
  {
   "cell_type": "markdown",
   "id": "03f6848b-9196-4176-b478-fd878eaa9e6e",
   "metadata": {
    "tags": []
   },
   "source": [
    "-----------------\n",
    "## Menu Interativo"
   ]
  },
  {
   "cell_type": "markdown",
   "id": "4af5d5ad-9c51-4255-b824-388e833fd690",
   "metadata": {
    "tags": []
   },
   "source": [
    "#### 🕹️ Utilize esse **menu** para ter uma interação com as classes e o código desenvolvido:\n",
    "**[Opção]:** _Ação que aquela opção realiza_ <br/>\n",
    "\n",
    "> **[1]:** Visualizar todas cartas <br/>\n",
    "**[2]:** Visualizar todas cartas no baralho <br/>\n",
    "**[3]:** Visualizar todas cartas fora do baralho <br/>\n",
    "**[4]:** Substituir baralho por novo baralho <br/>\n",
    "**[5]:** Embaralhar <br/>\n",
    "**[6]:** Mover todas cartas para fora do baralho <br/>\n",
    "**[7]:** Mover todas cartas para o baralho <br/>\n",
    "**[8]:** Adicionar uma carta no inicio do baralho <br/>\n",
    "**[9]:** Adicionar uma carta no fim do baralho <br/>\n",
    "**[Q]:** Remover primeira carta do baralho <br/>\n",
    "**[W]:** Remover ultima carta do baralho <br/>\n",
    "**[E]:** Remover todas cartas do baralho <br/>\n",
    "**[Z]:** Sair <br/>"
   ]
  },
  {
   "cell_type": "code",
   "execution_count": 30,
   "id": "0315678c-b789-42db-8207-d82aac0e96a0",
   "metadata": {},
   "outputs": [],
   "source": [
    "def Menu(baralho):\n",
    "    opcao_escolhida = 0\n",
    "\n",
    "    while True:\n",
    "        print('')\n",
    "        print('# MENU')\n",
    "        print('[1]: Visualizar todas cartas')\n",
    "        print('[2]: Visualizar todas cartas no baralho')\n",
    "        print('[3]: Visualizar todas cartas fora do baralho')\n",
    "        print('[4]: Substituir baralho por novo baralho')\n",
    "        print('[5]: Embaralhar')\n",
    "        print('[6]: Mover todas cartas para fora do baralho')\n",
    "        print('[7]: Mover todas cartas para o baralho')\n",
    "        print('[8]: Adicionar uma carta no inicio do baralho')\n",
    "        print('[9]: Adicionar uma carta no fim do baralho')\n",
    "        print('[Q]: Remover primeira carta do baralho')\n",
    "        print('[W]: Remover ultima carta do baralho')\n",
    "        print('[E]: Remover todas cartas do baralho')\n",
    "        print('[Z]: Sair')\n",
    "\n",
    "        opcao_escolhida = input('> Escolha uma opcao: ').upper()\n",
    "        print('')\n",
    "\n",
    "        if opcao_escolhida == 'Z':\n",
    "            break\n",
    "\n",
    "        if opcao_escolhida == '1':\n",
    "            print('## BARALHO')\n",
    "            baralho.VisualizarBaralho()\n",
    "        elif opcao_escolhida == '2':\n",
    "            print('## CARTAS NO BARALHO')\n",
    "            baralho.VisualizarCartas()\n",
    "        elif opcao_escolhida == '3':\n",
    "            print('## CARTAS FORA DO BARALHO')\n",
    "            baralho.VisualizarCartas(local = LocalNoBaralho.FORA_DO_BARALHO.value)\n",
    "        elif opcao_escolhida == '4':\n",
    "            print('## SUBSTITUIR BARALHO POR UM NOVO BARALHO')\n",
    "            baralho.AdicionarCartas(CriarCartas(baralho))\n",
    "        elif opcao_escolhida == '5':\n",
    "            print('## EMBARALHAR')\n",
    "            baralho.Embaralhar()\n",
    "        elif opcao_escolhida == '6':\n",
    "            print('## MOVER CARTAS PARA FORA DO BARALHO')\n",
    "            baralho.MoverTodasCartas()\n",
    "        elif opcao_escolhida == '7':\n",
    "            print('## MOVER CARTAS PARA O BARALHO')\n",
    "            baralho.MoverTodasCartas(local = LocalNoBaralho.BARALHO.value)\n",
    "        elif opcao_escolhida == '8':\n",
    "            print('## ADICIONAR CARTA NO INICIO DO BARALHO')\n",
    "            baralho.AdicionarUnicaCarta(CriarCarta())\n",
    "        elif opcao_escolhida == '9':\n",
    "            print('## ADICIONAR CARTA NO FIM DO BARALHO')\n",
    "            baralho.AdicionarUnicaCarta(CriarCarta(), 'fim')\n",
    "        elif opcao_escolhida == 'Q':\n",
    "            print('## REMOVER PRIMEIRA CARTA DO BARALHO')\n",
    "            baralho.RemoverUnicaCarta()\n",
    "        elif opcao_escolhida == 'W':\n",
    "            print('## REMOVER ULTIMA CARTA DO BARALHO')\n",
    "            baralho.RemoverUnicaCarta(local = 'fim')\n",
    "        elif opcao_escolhida == 'E':\n",
    "            print('## REMOVER TODAS CARTAS DO BARALHO')\n",
    "            baralho.RemoverTodasCartas()\n",
    "        else:\n",
    "            print('# Opcao invalida!')"
   ]
  },
  {
   "cell_type": "code",
   "execution_count": 43,
   "id": "8b58573e-c468-45e9-928f-876222569fcc",
   "metadata": {},
   "outputs": [
    {
     "name": "stdout",
     "output_type": "stream",
     "text": [
      "# Exercicio 6 - Baralho\n",
      "# BEM VINDO AO BARALHO\n",
      "[Pressione Z para sair]\n",
      "\n"
     ]
    },
    {
     "name": "stdin",
     "output_type": "stream",
     "text": [
      "# Voce deseja utilizar o baralho pre existente: [S/N/Z]  s\n"
     ]
    },
    {
     "name": "stdout",
     "output_type": "stream",
     "text": [
      "\n",
      "\n",
      "# MENU\n",
      "[1]: Visualizar todas cartas\n",
      "[2]: Visualizar todas cartas no baralho\n",
      "[3]: Visualizar todas cartas fora do baralho\n",
      "[4]: Substituir baralho por novo baralho\n",
      "[5]: Embaralhar\n",
      "[6]: Mover todas cartas para fora do baralho\n",
      "[7]: Mover todas cartas para o baralho\n",
      "[8]: Adicionar uma carta no inicio do baralho\n",
      "[9]: Adicionar uma carta no fim do baralho\n",
      "[Q]: Remover primeira carta do baralho\n",
      "[W]: Remover ultima carta do baralho\n",
      "[E]: Remover todas cartas do baralho\n",
      "[Z]: Sair\n"
     ]
    },
    {
     "name": "stdin",
     "output_type": "stream",
     "text": [
      "> Escolha uma opcao:  8\n"
     ]
    },
    {
     "name": "stdout",
     "output_type": "stream",
     "text": [
      "\n",
      "## ADICIONAR CARTA NO INICIO DO BARALHO\n",
      "# CRIAR CARTA\n"
     ]
    },
    {
     "name": "stdin",
     "output_type": "stream",
     "text": [
      "> Digite o valor da carta:  A\n",
      "> Digite o naipe da carta:  $\n"
     ]
    },
    {
     "name": "stdout",
     "output_type": "stream",
     "text": [
      "# Carta ($: A) adicionada com sucesso!\n",
      "\n",
      "# MENU\n",
      "[1]: Visualizar todas cartas\n",
      "[2]: Visualizar todas cartas no baralho\n",
      "[3]: Visualizar todas cartas fora do baralho\n",
      "[4]: Substituir baralho por novo baralho\n",
      "[5]: Embaralhar\n",
      "[6]: Mover todas cartas para fora do baralho\n",
      "[7]: Mover todas cartas para o baralho\n",
      "[8]: Adicionar uma carta no inicio do baralho\n",
      "[9]: Adicionar uma carta no fim do baralho\n",
      "[Q]: Remover primeira carta do baralho\n",
      "[W]: Remover ultima carta do baralho\n",
      "[E]: Remover todas cartas do baralho\n",
      "[Z]: Sair\n"
     ]
    },
    {
     "name": "stdin",
     "output_type": "stream",
     "text": [
      "> Escolha uma opcao:  1\n"
     ]
    },
    {
     "name": "stdout",
     "output_type": "stream",
     "text": [
      "\n",
      "## BARALHO\n",
      "# Total de cartas: 53\n",
      "[$]: A\n",
      "[ouro]: A\n",
      "[ouro]: 2\n",
      "[ouro]: 3\n",
      "[ouro]: 4\n",
      "[ouro]: 5\n",
      "[ouro]: 6\n",
      "[ouro]: 7\n",
      "[ouro]: 8\n",
      "[ouro]: 9\n",
      "[ouro]: 10\n",
      "[ouro]: J\n",
      "[ouro]: Q\n",
      "[ouro]: K\n",
      "[paus]: A\n",
      "[paus]: 2\n",
      "[paus]: 3\n",
      "[paus]: 4\n",
      "[paus]: 5\n",
      "[paus]: 6\n",
      "[paus]: 7\n",
      "[paus]: 8\n",
      "[paus]: 9\n",
      "[paus]: 10\n",
      "[paus]: J\n",
      "[paus]: Q\n",
      "[paus]: K\n",
      "[copas]: A\n",
      "[copas]: 2\n",
      "[copas]: 3\n",
      "[copas]: 4\n",
      "[copas]: 5\n",
      "[copas]: 6\n",
      "[copas]: 7\n",
      "[copas]: 8\n",
      "[copas]: 9\n",
      "[copas]: 10\n",
      "[copas]: J\n",
      "[copas]: Q\n",
      "[copas]: K\n",
      "[espada]: A\n",
      "[espada]: 2\n",
      "[espada]: 3\n",
      "[espada]: 4\n",
      "[espada]: 5\n",
      "[espada]: 6\n",
      "[espada]: 7\n",
      "[espada]: 8\n",
      "[espada]: 9\n",
      "[espada]: 10\n",
      "[espada]: J\n",
      "[espada]: Q\n",
      "[espada]: K\n",
      "\n",
      "# MENU\n",
      "[1]: Visualizar todas cartas\n",
      "[2]: Visualizar todas cartas no baralho\n",
      "[3]: Visualizar todas cartas fora do baralho\n",
      "[4]: Substituir baralho por novo baralho\n",
      "[5]: Embaralhar\n",
      "[6]: Mover todas cartas para fora do baralho\n",
      "[7]: Mover todas cartas para o baralho\n",
      "[8]: Adicionar uma carta no inicio do baralho\n",
      "[9]: Adicionar uma carta no fim do baralho\n",
      "[Q]: Remover primeira carta do baralho\n",
      "[W]: Remover ultima carta do baralho\n",
      "[E]: Remover todas cartas do baralho\n",
      "[Z]: Sair\n"
     ]
    },
    {
     "name": "stdin",
     "output_type": "stream",
     "text": [
      "> Escolha uma opcao:  4\n"
     ]
    },
    {
     "name": "stdout",
     "output_type": "stream",
     "text": [
      "\n",
      "## SUBSTITUIR BARALHO POR UM NOVO BARALHO\n",
      "# CRIAR CARTAS\n",
      "# Vamos comecar com os valores (numeros/letras)!\n",
      "# Digite \"valor\" da carta a seguir e aperte [ENTER], para sair digite [Z]\n"
     ]
    },
    {
     "name": "stdin",
     "output_type": "stream",
     "text": [
      "valor da carta:  z\n"
     ]
    },
    {
     "name": "stdout",
     "output_type": "stream",
     "text": [
      "\n",
      "# Agora vamos adicionar os naipes!\n",
      "# Digite \"naipe\" da carta a seguir e aperte [ENTER], para sair digite [Z]\n"
     ]
    },
    {
     "name": "stdin",
     "output_type": "stream",
     "text": [
      "naipe da carta:  z\n"
     ]
    },
    {
     "name": "stdout",
     "output_type": "stream",
     "text": [
      "\n",
      "# MENU\n",
      "[1]: Visualizar todas cartas\n",
      "[2]: Visualizar todas cartas no baralho\n",
      "[3]: Visualizar todas cartas fora do baralho\n",
      "[4]: Substituir baralho por novo baralho\n",
      "[5]: Embaralhar\n",
      "[6]: Mover todas cartas para fora do baralho\n",
      "[7]: Mover todas cartas para o baralho\n",
      "[8]: Adicionar uma carta no inicio do baralho\n",
      "[9]: Adicionar uma carta no fim do baralho\n",
      "[Q]: Remover primeira carta do baralho\n",
      "[W]: Remover ultima carta do baralho\n",
      "[E]: Remover todas cartas do baralho\n",
      "[Z]: Sair\n"
     ]
    },
    {
     "name": "stdin",
     "output_type": "stream",
     "text": [
      "> Escolha uma opcao:  9\n"
     ]
    },
    {
     "name": "stdout",
     "output_type": "stream",
     "text": [
      "\n",
      "## ADICIONAR CARTA NO FIM DO BARALHO\n",
      "# CRIAR CARTA\n"
     ]
    },
    {
     "name": "stdin",
     "output_type": "stream",
     "text": [
      "> Digite o valor da carta:  1\n",
      "> Digite o naipe da carta:  A\n"
     ]
    },
    {
     "name": "stdout",
     "output_type": "stream",
     "text": [
      "# BARALHO VAZIO\n",
      "# Carta (A: 1) adicionada com sucesso!\n",
      "\n",
      "# MENU\n",
      "[1]: Visualizar todas cartas\n",
      "[2]: Visualizar todas cartas no baralho\n",
      "[3]: Visualizar todas cartas fora do baralho\n",
      "[4]: Substituir baralho por novo baralho\n",
      "[5]: Embaralhar\n",
      "[6]: Mover todas cartas para fora do baralho\n",
      "[7]: Mover todas cartas para o baralho\n",
      "[8]: Adicionar uma carta no inicio do baralho\n",
      "[9]: Adicionar uma carta no fim do baralho\n",
      "[Q]: Remover primeira carta do baralho\n",
      "[W]: Remover ultima carta do baralho\n",
      "[E]: Remover todas cartas do baralho\n",
      "[Z]: Sair\n"
     ]
    },
    {
     "name": "stdin",
     "output_type": "stream",
     "text": [
      "> Escolha uma opcao:  1\n"
     ]
    },
    {
     "name": "stdout",
     "output_type": "stream",
     "text": [
      "\n",
      "## BARALHO\n",
      "# Total de cartas: 1\n",
      "[A]: 1\n",
      "\n",
      "# MENU\n",
      "[1]: Visualizar todas cartas\n",
      "[2]: Visualizar todas cartas no baralho\n",
      "[3]: Visualizar todas cartas fora do baralho\n",
      "[4]: Substituir baralho por novo baralho\n",
      "[5]: Embaralhar\n",
      "[6]: Mover todas cartas para fora do baralho\n",
      "[7]: Mover todas cartas para o baralho\n",
      "[8]: Adicionar uma carta no inicio do baralho\n",
      "[9]: Adicionar uma carta no fim do baralho\n",
      "[Q]: Remover primeira carta do baralho\n",
      "[W]: Remover ultima carta do baralho\n",
      "[E]: Remover todas cartas do baralho\n",
      "[Z]: Sair\n"
     ]
    },
    {
     "name": "stdin",
     "output_type": "stream",
     "text": [
      "> Escolha uma opcao:  5\n"
     ]
    },
    {
     "name": "stdout",
     "output_type": "stream",
     "text": [
      "\n",
      "## EMBARALHAR\n",
      "# Baralho embaralhado!\n",
      "\n",
      "# MENU\n",
      "[1]: Visualizar todas cartas\n",
      "[2]: Visualizar todas cartas no baralho\n",
      "[3]: Visualizar todas cartas fora do baralho\n",
      "[4]: Substituir baralho por novo baralho\n",
      "[5]: Embaralhar\n",
      "[6]: Mover todas cartas para fora do baralho\n",
      "[7]: Mover todas cartas para o baralho\n",
      "[8]: Adicionar uma carta no inicio do baralho\n",
      "[9]: Adicionar uma carta no fim do baralho\n",
      "[Q]: Remover primeira carta do baralho\n",
      "[W]: Remover ultima carta do baralho\n",
      "[E]: Remover todas cartas do baralho\n",
      "[Z]: Sair\n"
     ]
    },
    {
     "name": "stdin",
     "output_type": "stream",
     "text": [
      "> Escolha uma opcao:  1\n"
     ]
    },
    {
     "name": "stdout",
     "output_type": "stream",
     "text": [
      "\n",
      "## BARALHO\n",
      "# Total de cartas: 1\n",
      "[A]: 1\n",
      "\n",
      "# MENU\n",
      "[1]: Visualizar todas cartas\n",
      "[2]: Visualizar todas cartas no baralho\n",
      "[3]: Visualizar todas cartas fora do baralho\n",
      "[4]: Substituir baralho por novo baralho\n",
      "[5]: Embaralhar\n",
      "[6]: Mover todas cartas para fora do baralho\n",
      "[7]: Mover todas cartas para o baralho\n",
      "[8]: Adicionar uma carta no inicio do baralho\n",
      "[9]: Adicionar uma carta no fim do baralho\n",
      "[Q]: Remover primeira carta do baralho\n",
      "[W]: Remover ultima carta do baralho\n",
      "[E]: Remover todas cartas do baralho\n",
      "[Z]: Sair\n"
     ]
    },
    {
     "name": "stdin",
     "output_type": "stream",
     "text": [
      "> Escolha uma opcao:  Q\n"
     ]
    },
    {
     "name": "stdout",
     "output_type": "stream",
     "text": [
      "\n",
      "## REMOVER PRIMEIRA CARTA DO BARALHO\n",
      "# Carta (A: 1) removida com sucesso!\n",
      "\n",
      "# MENU\n",
      "[1]: Visualizar todas cartas\n",
      "[2]: Visualizar todas cartas no baralho\n",
      "[3]: Visualizar todas cartas fora do baralho\n",
      "[4]: Substituir baralho por novo baralho\n",
      "[5]: Embaralhar\n",
      "[6]: Mover todas cartas para fora do baralho\n",
      "[7]: Mover todas cartas para o baralho\n",
      "[8]: Adicionar uma carta no inicio do baralho\n",
      "[9]: Adicionar uma carta no fim do baralho\n",
      "[Q]: Remover primeira carta do baralho\n",
      "[W]: Remover ultima carta do baralho\n",
      "[E]: Remover todas cartas do baralho\n",
      "[Z]: Sair\n"
     ]
    },
    {
     "name": "stdin",
     "output_type": "stream",
     "text": [
      "> Escolha uma opcao:  W\n"
     ]
    },
    {
     "name": "stdout",
     "output_type": "stream",
     "text": [
      "\n",
      "## REMOVER ULTIMA CARTA DO BARALHO\n",
      "# BARALHO VAZIO\n",
      "# Nao ha cartas para remover!\n",
      "\n",
      "# MENU\n",
      "[1]: Visualizar todas cartas\n",
      "[2]: Visualizar todas cartas no baralho\n",
      "[3]: Visualizar todas cartas fora do baralho\n",
      "[4]: Substituir baralho por novo baralho\n",
      "[5]: Embaralhar\n",
      "[6]: Mover todas cartas para fora do baralho\n",
      "[7]: Mover todas cartas para o baralho\n",
      "[8]: Adicionar uma carta no inicio do baralho\n",
      "[9]: Adicionar uma carta no fim do baralho\n",
      "[Q]: Remover primeira carta do baralho\n",
      "[W]: Remover ultima carta do baralho\n",
      "[E]: Remover todas cartas do baralho\n",
      "[Z]: Sair\n"
     ]
    },
    {
     "name": "stdin",
     "output_type": "stream",
     "text": [
      "> Escolha uma opcao:  E\n"
     ]
    },
    {
     "name": "stdout",
     "output_type": "stream",
     "text": [
      "\n",
      "## REMOVER TODAS CARTAS DO BARALHO\n",
      "# BARALHO VAZIO\n",
      "# Nao ha cartas para remover!\n",
      "\n",
      "# MENU\n",
      "[1]: Visualizar todas cartas\n",
      "[2]: Visualizar todas cartas no baralho\n",
      "[3]: Visualizar todas cartas fora do baralho\n",
      "[4]: Substituir baralho por novo baralho\n",
      "[5]: Embaralhar\n",
      "[6]: Mover todas cartas para fora do baralho\n",
      "[7]: Mover todas cartas para o baralho\n",
      "[8]: Adicionar uma carta no inicio do baralho\n",
      "[9]: Adicionar uma carta no fim do baralho\n",
      "[Q]: Remover primeira carta do baralho\n",
      "[W]: Remover ultima carta do baralho\n",
      "[E]: Remover todas cartas do baralho\n",
      "[Z]: Sair\n"
     ]
    },
    {
     "name": "stdin",
     "output_type": "stream",
     "text": [
      "> Escolha uma opcao:  1\n"
     ]
    },
    {
     "name": "stdout",
     "output_type": "stream",
     "text": [
      "\n",
      "## BARALHO\n",
      "# BARALHO VAZIO\n",
      "\n",
      "# MENU\n",
      "[1]: Visualizar todas cartas\n",
      "[2]: Visualizar todas cartas no baralho\n",
      "[3]: Visualizar todas cartas fora do baralho\n",
      "[4]: Substituir baralho por novo baralho\n",
      "[5]: Embaralhar\n",
      "[6]: Mover todas cartas para fora do baralho\n",
      "[7]: Mover todas cartas para o baralho\n",
      "[8]: Adicionar uma carta no inicio do baralho\n",
      "[9]: Adicionar uma carta no fim do baralho\n",
      "[Q]: Remover primeira carta do baralho\n",
      "[W]: Remover ultima carta do baralho\n",
      "[E]: Remover todas cartas do baralho\n",
      "[Z]: Sair\n"
     ]
    },
    {
     "name": "stdin",
     "output_type": "stream",
     "text": [
      "> Escolha uma opcao:  2\n"
     ]
    },
    {
     "name": "stdout",
     "output_type": "stream",
     "text": [
      "\n",
      "## CARTAS NO BARALHO\n",
      "# BARALHO VAZIO\n",
      "\n",
      "# MENU\n",
      "[1]: Visualizar todas cartas\n",
      "[2]: Visualizar todas cartas no baralho\n",
      "[3]: Visualizar todas cartas fora do baralho\n",
      "[4]: Substituir baralho por novo baralho\n",
      "[5]: Embaralhar\n",
      "[6]: Mover todas cartas para fora do baralho\n",
      "[7]: Mover todas cartas para o baralho\n",
      "[8]: Adicionar uma carta no inicio do baralho\n",
      "[9]: Adicionar uma carta no fim do baralho\n",
      "[Q]: Remover primeira carta do baralho\n",
      "[W]: Remover ultima carta do baralho\n",
      "[E]: Remover todas cartas do baralho\n",
      "[Z]: Sair\n"
     ]
    },
    {
     "name": "stdin",
     "output_type": "stream",
     "text": [
      "> Escolha uma opcao:  3\n"
     ]
    },
    {
     "name": "stdout",
     "output_type": "stream",
     "text": [
      "\n",
      "## CARTAS FORA DO BARALHO\n",
      "# BARALHO VAZIO\n",
      "\n",
      "# MENU\n",
      "[1]: Visualizar todas cartas\n",
      "[2]: Visualizar todas cartas no baralho\n",
      "[3]: Visualizar todas cartas fora do baralho\n",
      "[4]: Substituir baralho por novo baralho\n",
      "[5]: Embaralhar\n",
      "[6]: Mover todas cartas para fora do baralho\n",
      "[7]: Mover todas cartas para o baralho\n",
      "[8]: Adicionar uma carta no inicio do baralho\n",
      "[9]: Adicionar uma carta no fim do baralho\n",
      "[Q]: Remover primeira carta do baralho\n",
      "[W]: Remover ultima carta do baralho\n",
      "[E]: Remover todas cartas do baralho\n",
      "[Z]: Sair\n"
     ]
    },
    {
     "name": "stdin",
     "output_type": "stream",
     "text": [
      "> Escolha uma opcao:  z\n"
     ]
    },
    {
     "name": "stdout",
     "output_type": "stream",
     "text": [
      "\n"
     ]
    }
   ],
   "source": [
    "print('# Exercicio 6 - Baralho')\n",
    "print('# BEM VINDO AO BARALHO')\n",
    "print('[Pressione Z para sair]')\n",
    "print('')\n",
    "\n",
    "baralho = Baralho()\n",
    "utilizar_baralho_existente = ''\n",
    "\n",
    "while utilizar_baralho_existente != 's' and utilizar_baralho_existente != 'n' and utilizar_baralho_existente != 'z':\n",
    "    utilizar_baralho_existente = input('# Voce deseja utilizar o baralho pre existente: [S/N/Z] ').lower()\n",
    "print('')\n",
    "\n",
    "if utilizar_baralho_existente == 'z':\n",
    "    print('# Finalizando baralho!')\n",
    "elif utilizar_baralho_existente == 's':\n",
    "    baralho.AdicionarCartas(PreCriacaoDeCartasParaBaralhoTeste())\n",
    "elif utilizar_baralho_existente == 'n':\n",
    "    baralho.AdicionarCartas(CriarCartas(baralho))\n",
    "\n",
    "while True:        \n",
    "    Menu(baralho)\n",
    "    break"
   ]
  }
 ],
 "metadata": {
  "kernelspec": {
   "display_name": "Python 3 (ipykernel)",
   "language": "python",
   "name": "python3"
  },
  "language_info": {
   "codemirror_mode": {
    "name": "ipython",
    "version": 3
   },
   "file_extension": ".py",
   "mimetype": "text/x-python",
   "name": "python",
   "nbconvert_exporter": "python",
   "pygments_lexer": "ipython3",
   "version": "3.8.10"
  }
 },
 "nbformat": 4,
 "nbformat_minor": 5
}
