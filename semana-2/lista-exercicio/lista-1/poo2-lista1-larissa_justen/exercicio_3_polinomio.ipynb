{
 "cells": [
  {
   "cell_type": "markdown",
   "id": "a2af7aef-16ff-4c67-9e3a-ba8e185549b4",
   "metadata": {},
   "source": [
    "**Descrição do exercício:**\n",
    "> Crie uma classe que modela um polinômio do tipo c0 + c1*x + c2*x^2 + … + cN*x^N .\n",
    "Os usuários serão estudantes de engenharia e ciências da computação que querem resolver exercícios de álgebra. \n",
    "A entrada são os N coeficientes em ordem crescente de potência. \n",
    "Os usuários precisarão acessar o grau do polinômio, avaliar o resultado para dado valor de x, somar e multiplicar dois polinômios.\n",
    "--- Desafio: Implemente um método que plota o polinômio para um dado intervalo de entrada."
   ]
  },
  {
   "cell_type": "code",
   "execution_count": 11,
   "id": "f117dd42-56c9-47a6-a8ad-820195d61f8e",
   "metadata": {},
   "outputs": [],
   "source": [
    "import numpy as np\n",
    "import matplotlib.pyplot as plt"
   ]
  },
  {
   "cell_type": "code",
   "execution_count": 97,
   "id": "464bf1eb-7057-48e9-a108-b1bc85581a79",
   "metadata": {},
   "outputs": [],
   "source": [
    "class Polinomio:\n",
    "    def __init__(self, array_coeficientes):\n",
    "        self.__array_coeficientes = array_coeficientes\n",
    "\n",
    "    @property\n",
    "    def array_coeficientes(self):\n",
    "        return self.__array_coeficientes\n",
    "\n",
    "    @array_coeficientes.setter\n",
    "    def array_coeficientes(self, new_array_coeficientes):\n",
    "        self.__array_coeficientes = new_array_coeficientes\n",
    "        \n",
    "    def __CheckListaVazia(self):\n",
    "        if all(self.array_coeficientes) == 0 or not self.array_coeficientes:\n",
    "            print('Polinomio de grau nulo!')\n",
    "            return True\n",
    "\n",
    "    def VizualizarPolinomio(self):\n",
    "        # c0 + c1*x + c2*x^2 + … + cN*x^N\n",
    "        string_polinomio = ''\n",
    "        for i, coeficiente in enumerate(self.array_coeficientes):\n",
    "            if i == 0:\n",
    "                string_polinomio += f'{coeficiente}'\n",
    "            elif coeficiente == 0:\n",
    "                continue\n",
    "            else:\n",
    "                if coeficiente > 0:\n",
    "                    string_polinomio += f' + {coeficiente}'\n",
    "                else:\n",
    "                    string_polinomio += f' - {abs(coeficiente)}'\n",
    "                if i == 1:\n",
    "                    string_polinomio += 'x'\n",
    "                else:\n",
    "                    string_polinomio += f'x^{i}'\n",
    "        return f'[{string_polinomio}]'\n",
    "\n",
    "    def RetornaGrau(self):\n",
    "        print('# Grau: ', end='')\n",
    "        if self.__CheckListaVazia():\n",
    "            return\n",
    "\n",
    "        print(len(self.array_coeficientes) - 1)\n",
    "        return len(self.array_coeficientes)-1\n",
    "\n",
    "    def ResultadoPolinomio(self, x):\n",
    "        print(f'# Resultado: ', end='')\n",
    "        if self.__CheckListaVazia():\n",
    "            return\n",
    "\n",
    "        resultado = 0\n",
    "        for i, coeficiente in enumerate(self.array_coeficientes):\n",
    "            resultado += coeficiente*(x**i)\n",
    "    \n",
    "        print(f'P(x) = {self.VizualizarPolinomio()} -> P({x}) = {resultado}')\n",
    "        return resultado\n",
    "\n",
    "    def SomarPolinomio(self, polinomio):\n",
    "        diferenca_tamanho = len(self.array_coeficientes) - len(polinomio.array_coeficientes)\n",
    "        if diferenca_tamanho > 0:\n",
    "            for i in range(diferenca_tamanho):\n",
    "                polinomio.array_coeficientes.append(0)\n",
    "        elif diferenca_tamanho < 0:\n",
    "            for i in range(diferenca_tamanho*-1):\n",
    "                self.array_coeficientes.append(0)\n",
    "\n",
    "        print(f'# Soma: {self.VizualizarPolinomio()} + {polinomio.VizualizarPolinomio()}', end='')\n",
    "        self.array_coeficientes = [x + y for x, y in zip(self.array_coeficientes, polinomio.array_coeficientes)]\n",
    "        print(f' = {self.VizualizarPolinomio()}')\n",
    "\n",
    "    def MultiplicarPolinomio(self, polinomio):\n",
    "        # (c0 + c1*x) * (c0 + c1*x) = c0^2 + 2*c0*c1*x + c1^2*x^2\n",
    "        # (1 + 2x^1) * (1 + 2x^1) = 1 * 1 + 1 * 2 x^1 + 2x^1 * 1 + 2x^1 * 2x^1 = 1 + 4x^1 + 4x^2\n",
    "        p1 = self.array_coeficientes[::-1]\n",
    "        p2 = polinomio.array_coeficientes[::-1]\n",
    "\n",
    "        print(f'# Multiplicação: {self.VizualizarPolinomio()} * {polinomio.VizualizarPolinomio()}', end='')\n",
    "        self.array_coeficientes = list(np.polynomial.polynomial.polymul(p1, p2))[::-1]\n",
    "        print(f' = {self.VizualizarPolinomio()}')\n",
    "    \n",
    "    def Plot(self, x_range):\n",
    "        x = np.linspace(x_range[0], x_range[1], 100)\n",
    "        y = np.polyval(self.array_coeficientes[::-1], x)\n",
    "        plt.plot(x, y)\n",
    "        plt.show()"
   ]
  },
  {
   "cell_type": "code",
   "execution_count": 99,
   "id": "00cade79-5905-4691-8190-2a1ded729469",
   "metadata": {},
   "outputs": [
    {
     "name": "stdout",
     "output_type": "stream",
     "text": [
      "# Exercicio 3 - Polinomio\n",
      "# Grau: Polinomio de grau nulo!\n",
      "# Resultado: Polinomio de grau nulo!\n",
      "# Soma: [0] + [1 + 2x] = [1 + 2x]\n",
      "# Multiplicação: [0] * [1 + 2x] = [0.0]\n",
      "# Polinomio p1: [1 + 2x]\n"
     ]
    },
    {
     "data": {
      "image/png": "[encoded data removed]",
      "text/plain": [
       "<Figure size 432x288 with 1 Axes>"
      ]
     },
     "metadata": {
      "needs_background": "light"
     },
     "output_type": "display_data"
    }
   ],
   "source": [
    "print('# Exercicio 3 - Polinomio')\n",
    "p1 = Polinomio([0,0])\n",
    "p2 = Polinomio([0,0])\n",
    "p3 = Polinomio([1,2])\n",
    "\n",
    "p1.RetornaGrau()\n",
    "p1.ResultadoPolinomio(2)\n",
    "p1.SomarPolinomio(p3)\n",
    "p2.MultiplicarPolinomio(p3)\n",
    "\n",
    "print(f'# Polinomio p1: {p1.VizualizarPolinomio()}')\n",
    "p1.Plot([-10, 10])"
   ]
  }
 ],
 "metadata": {
  "kernelspec": {
   "display_name": "Python 3 (ipykernel)",
   "language": "python",
   "name": "python3"
  },
  "language_info": {
   "codemirror_mode": {
    "name": "ipython",
    "version": 3
   },
   "file_extension": ".py",
   "mimetype": "text/x-python",
   "name": "python",
   "nbconvert_exporter": "python",
   "pygments_lexer": "ipython3",
   "version": "3.8.10"
  }
 },
 "nbformat": 4,
 "nbformat_minor": 5
}
