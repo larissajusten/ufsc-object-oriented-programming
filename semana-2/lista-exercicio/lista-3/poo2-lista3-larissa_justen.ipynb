{
 "cells": [
  {
   "cell_type": "markdown",
   "id": "c6a18661",
   "metadata": {},
   "source": [
    "1️⃣ **Exercício 1.** Escreva uma função que conta a frequência de ocorrência de cada palavra em um texto (arquivo txt) e armazena tal quantidade em um dicionário, onde a chave é a vogal considerada."
   ]
  },
  {
   "cell_type": "markdown",
   "id": "80b3d4e2",
   "metadata": {},
   "source": [
    "**Correção:** \"onde a chave é a PALAVRA considerada\""
   ]
  },
  {
   "cell_type": "code",
   "execution_count": 1,
   "id": "0873fa28",
   "metadata": {},
   "outputs": [],
   "source": [
    "from collections import Counter"
   ]
  },
  {
   "cell_type": "code",
   "execution_count": 2,
   "id": "ebd6e58b",
   "metadata": {},
   "outputs": [],
   "source": [
    "def count_palavras(nome_arquivo: str):\n",
    "    file = open(f'{nome_arquivo}.txt', 'rt')\n",
    "    texto = file.read()\n",
    "\n",
    "    palavras = [palavra for palavra in texto.split(' ')]\n",
    "    dicionario = dict(Counter(palavras))\n",
    "    # dicionario2 = {i: palavras.count(i)  for i in list(set(palavras))}\n",
    "\n",
    "    return dicionario"
   ]
  },
  {
   "cell_type": "code",
   "execution_count": 4,
   "id": "cc61ace5",
   "metadata": {},
   "outputs": [
    {
     "name": "stdout",
     "output_type": "stream",
     "text": [
      "Digite o nome do arquivo de texto: teste\n",
      "{'Gostaria': 1, 'de': 2, 'enfatizar': 1, 'que': 1, 'a': 2, 'hegemonia': 1, 'do': 3, 'ambiente': 2, 'político': 1, 'obstaculiza': 1, 'apreciação': 1, 'fluxo': 1, 'informações.': 1}\n"
     ]
    }
   ],
   "source": [
    "nome_arquivo = input('Digite o nome do arquivo de texto: ')\n",
    "dicionario = count_palavras(nome_arquivo)\n",
    "print(dicionario)"
   ]
  },
  {
   "cell_type": "markdown",
   "id": "cb92ad75",
   "metadata": {},
   "source": [
    "2️⃣ **Exercício 2.** Escreva uma função que apaga do dicionário anterior, todas as palavras que sejam ‘stopwords’.\n",
    "Ver https://gist.github.com/alopes/5358189"
   ]
  },
  {
   "cell_type": "code",
   "execution_count": 5,
   "id": "043b28b7",
   "metadata": {},
   "outputs": [],
   "source": [
    "stopwords = ['de', 'a', 'o', 'que', 'e', 'do', 'da', 'em', 'um', 'para', 'é', 'com', 'não', 'uma', 'os', 'no', 'se', 'na', 'por', 'mais', 'as', 'dos', 'como', 'mas', 'foi', 'ao', 'ele', 'das', 'tem', 'à', 'seu', 'sua', 'ou', 'ser', 'quando', 'muito', 'há', 'nos', 'já', 'está', 'eu', 'também', 'só', 'pelo', 'pela', 'até', 'isso', 'ela', 'entre', 'era', 'depois', 'sem', 'mesmo', 'aos', 'ter', 'seus', 'quem', 'nas', 'me', 'esse', 'eles', 'estão', 'você', 'tinha', 'foram', 'essa', 'num', 'nem', 'suas', 'meu', 'às', 'minha', 'têm', 'numa', 'pelos', 'elas', 'havia', 'seja', 'qual', 'será', 'nós', 'tenho', 'lhe', 'deles', 'essas', 'esses', 'pelas', 'este', 'fosse', 'dele', 'tu', 'te', 'vocês', 'vos', 'lhes', 'meus', 'minhas', 'teu', 'tua', 'teus', 'tuas', 'nosso', 'nossa', 'nossos', 'nossas', 'dela', 'delas', 'esta', 'estes', 'estas', 'aquele', 'aquela', 'aqueles', 'aquelas', 'isto', 'aquilo', 'estou', 'está', 'estamos', 'estão', 'estive', 'esteve', 'estivemos', 'estiveram', 'estava',\n",
    "             'estávamos', 'estavam', 'estivera', 'estivéramos', 'esteja', 'estejamos', 'estejam', 'estivesse', 'estivéssemos', 'estivessem', 'estiver', 'estivermos', 'estiverem', 'hei', 'há', 'havemos', 'hão', 'houve', 'houvemos', 'houveram', 'houvera', 'houvéramos', 'haja', 'hajamos', 'hajam', 'houvesse', 'houvéssemos', 'houvessem', 'houver', 'houvermos', 'houverem', 'houverei', 'houverá', 'houveremos', 'houverão', 'houveria', 'houveríamos', 'houveriam', 'sou', 'somos', 'são', 'era', 'éramos', 'eram', 'fui', 'foi', 'fomos', 'foram', 'fora', 'fôramos', 'seja', 'sejamos', 'sejam', 'fosse', 'fôssemos', 'fossem', 'for', 'formos', 'forem', 'serei', 'será', 'seremos', 'serão', 'seria', 'seríamos', 'seriam', 'tenho', 'tem', 'temos', 'tém', 'tinha', 'tínhamos', 'tinham', 'tive', 'teve', 'tivemos', 'tiveram', 'tivera', 'tivéramos', 'tenha', 'tenhamos', 'tenham', 'tivesse', 'tivéssemos', 'tivessem', 'tiver', 'tivermos', 'tiverem', 'terei', 'terá', 'teremos', 'terão', 'teria', 'teríamos', 'teriam']"
   ]
  },
  {
   "cell_type": "code",
   "execution_count": 7,
   "id": "8ba2aad7",
   "metadata": {},
   "outputs": [],
   "source": [
    "def delete_stopwords(dicionario):\n",
    "    for stopword in stopwords:\n",
    "        if stopword in dicionario.keys():\n",
    "            dicionario.pop(stopword, None)\n",
    "\n",
    "    return dicionario"
   ]
  },
  {
   "cell_type": "code",
   "execution_count": 10,
   "id": "acf41201",
   "metadata": {},
   "outputs": [
    {
     "name": "stdout",
     "output_type": "stream",
     "text": [
      "Digite o nome do arquivo de texto: teste\n",
      "\n",
      "Dicionario: {'Gostaria': 1, 'de': 2, 'enfatizar': 1, 'que': 1, 'a': 2, 'hegemonia': 1, 'do': 3, 'ambiente': 2, 'político': 1, 'obstaculiza': 1, 'apreciação': 1, 'fluxo': 1, 'informações.': 1}\n",
      "\n",
      "Apos apagar stopwords: {'Gostaria': 1, 'enfatizar': 1, 'hegemonia': 1, 'ambiente': 2, 'político': 1, 'obstaculiza': 1, 'apreciação': 1, 'fluxo': 1, 'informações.': 1}\n"
     ]
    }
   ],
   "source": [
    "nome_arquivo = input('Digite o nome do arquivo de texto: ')\n",
    "dicionario = count_palavras(nome_arquivo)\n",
    "print(f'\\nDicionario: {dicionario}')\n",
    "novo_dicionario = delete_stopwords(dicionario)\n",
    "print(f'\\nApos apagar stopwords: {novo_dicionario}')"
   ]
  },
  {
   "cell_type": "markdown",
   "id": "9e6df14d",
   "metadata": {},
   "source": [
    "3️⃣ **Exercício 3.** Escreva um programa que lê duas notas de vários alunos e armazena tais notas em um dicionário, onde a chave é o nome do aluno.  A entrada de dados deve terminar quando for lida uma string vazia como nome. Escreva uma função que retorna a média do aluno, dado seu nome."
   ]
  },
  {
   "cell_type": "code",
   "execution_count": 11,
   "id": "581e8943",
   "metadata": {},
   "outputs": [],
   "source": [
    "def le_notas(dicionario = {}):\n",
    "    nome_aluno = input('Digite o nome do aluno: ')\n",
    "    if nome_aluno.isalpha() and nome_aluno not in dicionario.keys():\n",
    "        nota1 = float(input('Digite a primeira nota: (somente numeros) '))\n",
    "        nota2 = float(input('Digite a segunda nota: (somente numeros) '))\n",
    "        dicionario[nome_aluno] = [nota1, nota2]\n",
    "        le_notas(dicionario)\n",
    "    elif nome_aluno in dicionario.keys():\n",
    "        print('Aluno ja adicionado!')\n",
    "        le_notas(dicionario)\n",
    "\n",
    "    return dicionario"
   ]
  },
  {
   "cell_type": "code",
   "execution_count": 12,
   "id": "8cc1eb9f",
   "metadata": {},
   "outputs": [],
   "source": [
    "def retorna_nota_aluno(dicionario, nome_aluno):\n",
    "    return (dicionario[nome_aluno][0] + dicionario[nome_aluno][1]) / 2"
   ]
  },
  {
   "cell_type": "code",
   "execution_count": 14,
   "id": "fb0f82cf",
   "metadata": {},
   "outputs": [
    {
     "name": "stdout",
     "output_type": "stream",
     "text": [
      "Digite o nome do aluno: Larissa\n",
      "Digite a primeira nota: (somente numeros) 1\n",
      "Digite a segunda nota: (somente numeros) 2\n",
      "Digite o nome do aluno: Jesus\n",
      "Digite a primeira nota: (somente numeros) 0\n",
      "Digite a segunda nota: (somente numeros) 0\n",
      "Digite o nome do aluno: \n",
      "\n",
      "Digite o nome do aluno que deseja saber a nota: Jesus\n",
      "Jesus: 0.0\n"
     ]
    }
   ],
   "source": [
    "dicionario = le_notas()\n",
    "nome_aluno = input('\\nDigite o nome do aluno que deseja saber a nota: ')\n",
    "\n",
    "if dicionario and nome_aluno in dicionario.keys():\n",
    "    media = retorna_nota_aluno(dicionario, nome_aluno)\n",
    "    print(f'{nome_aluno}: {media}')"
   ]
  },
  {
   "cell_type": "markdown",
   "id": "0edca28c",
   "metadata": {},
   "source": [
    "4️⃣ **Exercício 4.** Uma pista de Kart permite 10 voltas para cada um de 6 corredores. Escreva um programa que leia todos os tempos em segundos e os guarde em um dicionário, onde a chave é o nome do corredor. Ao final diga de quem foi a melhor volta da prova e em que volta; e ainda a classificação final em ordem (1o o campeão). O campeão é o que tem a menor média de tempos."
   ]
  },
  {
   "cell_type": "code",
   "execution_count": 20,
   "id": "27690f15",
   "metadata": {},
   "outputs": [],
   "source": [
    "def le_tempos_corridas(array_tempos=[], numero_voltas=0):\n",
    "    if numero_voltas < 10:\n",
    "        tempo_volta = float(\n",
    "            input(f'[{numero_voltas+1}] Digite o tempo: (numerico/seg) '))\n",
    "        if tempo_volta > 0:\n",
    "            array_tempos.append(tempo_volta)\n",
    "            le_tempos_corridas(array_tempos, numero_voltas+1)\n",
    "        else:\n",
    "            print('# Valor invalido no tempo da volta!')\n",
    "            le_tempos_corridas(array_tempos, numero_voltas)\n",
    "    return array_tempos"
   ]
  },
  {
   "cell_type": "code",
   "execution_count": 21,
   "id": "4c9bcc42",
   "metadata": {},
   "outputs": [],
   "source": [
    "def le_corredores(dicionario={}, num_corredores=0):\n",
    "    if num_corredores < 6:\n",
    "        nome_corredor = input(\n",
    "            f'[{num_corredores+1}] Digite o nome do corredor: ')\n",
    "        if nome_corredor.isalpha():\n",
    "            array_tempos = le_tempos_corridas(array_tempos=[])\n",
    "            dicionario[nome_corredor] = sorted(array_tempos)\n",
    "            le_corredores(dicionario, num_corredores+1)\n",
    "        else:\n",
    "            print('# Valor invalido no nome do corredor!')\n",
    "            le_corredores(dicionario, num_corredores)\n",
    "    return dicionario"
   ]
  },
  {
   "cell_type": "code",
   "execution_count": 17,
   "id": "9e57c18f",
   "metadata": {},
   "outputs": [],
   "source": [
    "def calc_media_tempos(dicionario):\n",
    "    return {corredor: sum(array_tempos)/len(array_tempos) for corredor, array_tempos in dicionario.items()}"
   ]
  },
  {
   "cell_type": "code",
   "execution_count": 19,
   "id": "a7c15382",
   "metadata": {},
   "outputs": [
    {
     "name": "stdout",
     "output_type": "stream",
     "text": [
      "[1] Digite o nome do corredor: Larissa\n",
      "[1] Digite o tempo: (numerico/seg) 10\n",
      "[2] Digite o tempo: (numerico/seg) 15\n",
      "[2] Digite o nome do corredor: Jesus\n",
      "[1] Digite o tempo: (numerico/seg) 0\n",
      "# Valor invalido no tempo da volta!\n",
      "[1] Digite o tempo: (numerico/seg) 1\n",
      "[2] Digite o tempo: (numerico/seg) 1\n",
      "# Jesus teve a melhor volta com duracao de 1.0 segundos!\n",
      "[1 Lugar] Jesus com media de 1.0 segundos!\n",
      "[2 Lugar] Larissa com media de 12.5 segundos!\n"
     ]
    }
   ],
   "source": [
    "dicionario = le_corredores()\n",
    "\n",
    "for i in sorted(dicionario, key=dicionario.get):\n",
    "    print(\n",
    "        f'# {i.capitalize()} teve a melhor volta com duracao de {dicionario[i][0]} segundos!')\n",
    "    break\n",
    "\n",
    "dicionario_medias = calc_media_tempos(dicionario)\n",
    "for index, i in enumerate(sorted(dicionario_medias, key=dicionario_medias.get)):\n",
    "    print(\n",
    "        f'[{index+1} Lugar] {i.capitalize()} com media de {dicionario_medias[i]} segundos!')\n",
    "    if index == 2:\n",
    "        break"
   ]
  },
  {
   "cell_type": "markdown",
   "id": "1d5def3b",
   "metadata": {},
   "source": [
    "6️⃣ **Exercício 6.** Criar 10 frozensets com 30 números aleatórios cada, e construir um dicionário que contenha a soma de cada um deles."
   ]
  },
  {
   "cell_type": "code",
   "execution_count": 22,
   "id": "5d566ed1",
   "metadata": {},
   "outputs": [],
   "source": [
    "import random"
   ]
  },
  {
   "cell_type": "code",
   "execution_count": 23,
   "id": "3ae0e072",
   "metadata": {},
   "outputs": [],
   "source": [
    "def get_random_set(size):\n",
    "    return frozenset(random.sample(range(1, 100), size))"
   ]
  },
  {
   "cell_type": "code",
   "execution_count": 24,
   "id": "93ab136b",
   "metadata": {},
   "outputs": [],
   "source": [
    "def get_random_sets(size, num_sets):\n",
    "    return [get_random_set(size) for _ in range(num_sets)]"
   ]
  },
  {
   "cell_type": "code",
   "execution_count": 25,
   "id": "af386c24",
   "metadata": {},
   "outputs": [],
   "source": [
    "def get_dict_from_sets_sum(sets):\n",
    "    return {key: sum(value) for key, value in enumerate(sets)}"
   ]
  },
  {
   "cell_type": "code",
   "execution_count": 26,
   "id": "2b8364e9",
   "metadata": {},
   "outputs": [
    {
     "name": "stdout",
     "output_type": "stream",
     "text": [
      "{0: 1334, 1: 1552, 2: 1762, 3: 1387, 4: 1535, 5: 1672, 6: 1422, 7: 1572, 8: 1567, 9: 1562}\n"
     ]
    }
   ],
   "source": [
    "_sets = get_random_sets(30, 10)\n",
    "_dict = get_dict_from_sets_sum(_sets)\n",
    "print(_dict)"
   ]
  },
  {
   "cell_type": "code",
   "execution_count": null,
   "id": "b7a3cb7e",
   "metadata": {},
   "outputs": [],
   "source": []
  }
 ],
 "metadata": {
  "kernelspec": {
   "display_name": "Python 3 (ipykernel)",
   "language": "python",
   "name": "python3"
  },
  "language_info": {
   "codemirror_mode": {
    "name": "ipython",
    "version": 3
   },
   "file_extension": ".py",
   "mimetype": "text/x-python",
   "name": "python",
   "nbconvert_exporter": "python",
   "pygments_lexer": "ipython3",
   "version": "3.8.10"
  }
 },
 "nbformat": 4,
 "nbformat_minor": 5
}
