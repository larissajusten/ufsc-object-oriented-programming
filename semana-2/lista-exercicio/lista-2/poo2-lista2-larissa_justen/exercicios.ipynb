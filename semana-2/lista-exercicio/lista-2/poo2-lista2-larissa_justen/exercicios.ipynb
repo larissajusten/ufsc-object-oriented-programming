{
 "cells": [
  {
   "cell_type": "markdown",
   "metadata": {},
   "source": [
    "**Exercício 1.** Faça um Programa que leia um vetor de 5 números inteiros e mostre-os."
   ]
  },
  {
   "cell_type": "code",
   "execution_count": 1,
   "metadata": {},
   "outputs": [],
   "source": [
    "def LeVetorDeCincoNumeros():\n",
    "    print('# Digite os 5 numeros inteiros a seguir!')\n",
    "    vetor = []\n",
    "    for i in range(5):\n",
    "        vetor.append(int(input(f'[{i+1}] Numero: ')))\n",
    "    \n",
    "    print(f'Numeros: {vetor}')"
   ]
  },
  {
   "cell_type": "code",
   "execution_count": 5,
   "metadata": {},
   "outputs": [
    {
     "name": "stdout",
     "output_type": "stream",
     "text": [
      "# Digite os 5 numeros inteiros a seguir!\n",
      "Numeros: [1, 2, 3, 4, 5]\n"
     ]
    }
   ],
   "source": [
    "LeVetorDeCincoNumeros()"
   ]
  },
  {
   "cell_type": "markdown",
   "metadata": {},
   "source": [
    "**Exercício 2.** Faça um Programa que leia um vetor de 10 números reais e mostre-os na ordem inversa"
   ]
  },
  {
   "cell_type": "code",
   "execution_count": 7,
   "metadata": {},
   "outputs": [],
   "source": [
    "def LeVetorDezNumerosEMostraNaOrdemInversa():\n",
    "    print('# Digite os 10 numeros reais a seguir!')\n",
    "    vetor = []\n",
    "    for i in range(10):\n",
    "        vetor.append(input(f'[{i+1}] Numero: '))\n",
    "\n",
    "    print(f'Numeros: {vetor[:]}')\n",
    "    print(f'Ordem inversa: {vetor[::-1]}')"
   ]
  },
  {
   "cell_type": "code",
   "execution_count": 8,
   "metadata": {},
   "outputs": [
    {
     "name": "stdout",
     "output_type": "stream",
     "text": [
      "# Digite os 10 numeros reais a seguir!\n",
      "Numeros: ['1', '2', '3', '4', '5', '6', '7', '8', '9', '0']\n",
      "Ordem inversa: ['0', '9', '8', '7', '6', '5', '4', '3', '2', '1']\n"
     ]
    }
   ],
   "source": [
    "LeVetorDezNumerosEMostraNaOrdemInversa()"
   ]
  },
  {
   "cell_type": "markdown",
   "metadata": {},
   "source": [
    "**Exercício 3.** Faça um Programa que leia 4 notas, mostre as notas e a média na tela."
   ]
  },
  {
   "cell_type": "code",
   "execution_count": 9,
   "metadata": {},
   "outputs": [],
   "source": [
    "def LeQuatroNotasEMostraNotasEMostraMedia():\n",
    "    print('# Digite as 4 notas a seguir:')\n",
    "    vetor = []\n",
    "    valor = ' '\n",
    "    for i in range(4):\n",
    "        while True:\n",
    "            try:\n",
    "                vetor.append(float(input(f'[{i+1}] Nota: ')))\n",
    "                break\n",
    "            except:\n",
    "                print(\"Nota invalida!\")\n",
    "    \n",
    "    media = sum(vetor)/len(vetor)\n",
    "    print(f'# Media: {media}')\n",
    "    print(f'# Notas: {vetor}')"
   ]
  },
  {
   "cell_type": "code",
   "execution_count": 10,
   "metadata": {},
   "outputs": [
    {
     "name": "stdout",
     "output_type": "stream",
     "text": [
      "# Digite as 4 notas a seguir:\n",
      "# Media: 1.0\n",
      "# Notas: [1.0, 1.0, 1.0, 1.0]\n"
     ]
    }
   ],
   "source": [
    "LeQuatroNotasEMostraNotasEMostraMedia()"
   ]
  },
  {
   "cell_type": "markdown",
   "metadata": {},
   "source": [
    "**Exercício 4.** Faça um Programa que leia um vetor de 10 caracteres, e diga quantas consoantes foram lidas. Imprima as consoantes."
   ]
  },
  {
   "cell_type": "code",
   "execution_count": 11,
   "metadata": {},
   "outputs": [],
   "source": [
    "def LeConstantesEContaConstantes():\n",
    "    constantes = ['a', 'e', 'i', 'o', 'u']\n",
    "    vetor = []\n",
    "    for i in range(10):\n",
    "        vetor.append(input(f'[{i+1}] Caracter: ')[0])\n",
    "    \n",
    "    vetor_constantes = [caracter for caracter in vetor if caracter in constantes]\n",
    "    print(f'# Constantes[{len(vetor_constantes)}]: {vetor_constantes}')"
   ]
  },
  {
   "cell_type": "code",
   "execution_count": 12,
   "metadata": {},
   "outputs": [
    {
     "name": "stdout",
     "output_type": "stream",
     "text": [
      "# Constantes[3]: ['a', 'e', 'u']\n"
     ]
    }
   ],
   "source": [
    "LeConstantesEContaConstantes()"
   ]
  },
  {
   "cell_type": "markdown",
   "metadata": {},
   "source": [
    "**Exercício 5.** Faça um Programa que leia 20 números inteiros e armazene-os num vetor. Armazene os números pares no vetor PAR e os números IMPARES no vetor impar. Imprima os três vetores."
   ]
  },
  {
   "cell_type": "code",
   "execution_count": 13,
   "metadata": {},
   "outputs": [],
   "source": [
    "def isPar(value):\n",
    "    return value % 2 == 0"
   ]
  },
  {
   "cell_type": "code",
   "execution_count": 16,
   "metadata": {},
   "outputs": [],
   "source": [
    "def LeVinteNumerosESeparaEmImparEPar():\n",
    "    vetor, vetor_par, vetor_impar = ([] for i in range(3))\n",
    "\n",
    "    for i in range(20):\n",
    "        while True:\n",
    "            try:\n",
    "                value = int(input(f'[{i+1}] Numero: '))\n",
    "                vetor.append(value)\n",
    "                if isPar(value):\n",
    "                    vetor_par.append(value)\n",
    "                else:\n",
    "                    vetor_impar.append(value)\n",
    "                break\n",
    "            except:\n",
    "                print(\"Entrada invalida!\")\n",
    "\n",
    "    print(f'# Vetor: {vetor}')\n",
    "    print(f'# Vetor par: {vetor_par}')\n",
    "    print(f'# Vetor impar: {vetor_impar}')"
   ]
  },
  {
   "cell_type": "code",
   "execution_count": 17,
   "metadata": {},
   "outputs": [
    {
     "name": "stdout",
     "output_type": "stream",
     "text": [
      "# Vetor: [1, 2, 3, 4, 5, 6, 7, 8, 9, 10, 11, 12, 13, 14, 15, 16, 17, 18, 19, 20]\n",
      "# Vetor par: [2, 4, 6, 8, 10, 12, 14, 16, 18, 20]\n",
      "# Vetor impar: [1, 3, 5, 7, 9, 11, 13, 15, 17, 19]\n"
     ]
    }
   ],
   "source": [
    "LeVinteNumerosESeparaEmImparEPar()"
   ]
  },
  {
   "cell_type": "markdown",
   "metadata": {},
   "source": [
    "**Exercício 6.** Faça um Programa que peça as quatro notas de 10 alunos, calcule e armazene num vetor a média de cada aluno, imprima o número de alunos com média maior ou igual a 7.0."
   ]
  },
  {
   "cell_type": "code",
   "execution_count": 1,
   "metadata": {},
   "outputs": [],
   "source": [
    "def LeNotasDezAlunos(notas_alunos = [], num_alunos = 1):\n",
    "    valor = 0\n",
    "\n",
    "    print('')\n",
    "    print(f'# Digite as notas do aluno {num_alunos}:')\n",
    "    for i in range(4):\n",
    "        while True:\n",
    "            try:\n",
    "                valor += float(input(f'[{i+1}] Nota: '))\n",
    "                notas_alunos.append(valor/4)\n",
    "                break\n",
    "            except:\n",
    "                print('Entrada invalida!')\n",
    "        \n",
    "    if num_alunos < 10:\n",
    "        LeNotasDezAlunos(notas_alunos, num_alunos+1)\n",
    "    \n",
    "    if num_alunos == 10:\n",
    "        print('')\n",
    "        media_maior_igual_7 = [nota for nota in notas_alunos if nota >= 7.0]\n",
    "        print(f'# Numero de alunos com media maior ou igual a 7.0: {len(media_maior_igual_7)}')      "
   ]
  },
  {
   "cell_type": "code",
   "execution_count": 2,
   "metadata": {},
   "outputs": [
    {
     "name": "stdout",
     "output_type": "stream",
     "text": [
      "\n",
      "# Digite as notas do aluno 1:\n",
      "\n",
      "# Digite as notas do aluno 2:\n",
      "\n",
      "# Digite as notas do aluno 3:\n",
      "\n",
      "# Digite as notas do aluno 4:\n",
      "\n",
      "# Digite as notas do aluno 5:\n",
      "\n",
      "# Digite as notas do aluno 6:\n",
      "\n",
      "# Digite as notas do aluno 7:\n",
      "\n",
      "# Digite as notas do aluno 8:\n",
      "\n",
      "# Digite as notas do aluno 9:\n",
      "\n",
      "# Digite as notas do aluno 10:\n",
      "\n",
      "# Numero de alunos com media maior ou igual a 7.0: 4\n"
     ]
    }
   ],
   "source": [
    "LeNotasDezAlunos()"
   ]
  },
  {
   "cell_type": "markdown",
   "metadata": {},
   "source": [
    "**Exercício 7.** Faça um Programa que leia um vetor de 5 números inteiros, mostre a soma, a multiplicação e os números."
   ]
  },
  {
   "cell_type": "code",
   "execution_count": 3,
   "metadata": {},
   "outputs": [],
   "source": [
    "def LeCincoNumeros():\n",
    "    print('# Digite os 5 numeros inteiros:')\n",
    "    vetor_numeros = []\n",
    "    soma = 0\n",
    "    multiplicacao = 1\n",
    "\n",
    "    for i in range(5):\n",
    "        while True:\n",
    "            try:\n",
    "                valor = int(input(f'[{i+1}] Numero: '))\n",
    "                soma += valor\n",
    "                multiplicacao *= valor\n",
    "                vetor_numeros.append(valor)\n",
    "                break\n",
    "            except:\n",
    "                print('Entrada invalida!')\n",
    "    \n",
    "    print(f'# Soma: {soma}')\n",
    "    print(f'# Multiplicacao: {multiplicacao}')\n",
    "    print(f'# Numeros: {vetor_numeros}')"
   ]
  },
  {
   "cell_type": "code",
   "execution_count": 4,
   "metadata": {},
   "outputs": [
    {
     "name": "stdout",
     "output_type": "stream",
     "text": [
      "# Digite os 5 numeros inteiros:\n",
      "# Soma: 5\n",
      "# Multiplicacao: 1\n",
      "# Numeros: [1, 1, 1, 1, 1]\n"
     ]
    }
   ],
   "source": [
    "LeCincoNumeros()"
   ]
  },
  {
   "cell_type": "markdown",
   "metadata": {},
   "source": [
    "**Exercício 8.** Faça um Programa que peça a idade e a altura de 5 pessoas, armazene cada informação no seu respectivo vetor. Imprima a idade e a altura na ordem inversa a ordem lida."
   ]
  },
  {
   "cell_type": "code",
   "execution_count": 5,
   "metadata": {},
   "outputs": [],
   "source": [
    "def LeIdadeEAltura():\n",
    "    vetor_idade = []\n",
    "    vetor_altura = []\n",
    "\n",
    "    for i in range(5):\n",
    "        while True:\n",
    "            try:\n",
    "                idade = int(input(f'[{i+1}] Idade: '))\n",
    "                altura = float(input(f'[{i+1}] Altura: '))\n",
    "                vetor_idade.append(idade)\n",
    "                vetor_altura.append(altura)\n",
    "                break\n",
    "            except:\n",
    "                print('Entrada invalida!')\n",
    "\n",
    "    print(f'# Idades: {vetor_idade[::-1]}')\n",
    "    print(f'# Altura: {vetor_altura[::-1]}')"
   ]
  },
  {
   "cell_type": "code",
   "execution_count": 6,
   "metadata": {},
   "outputs": [
    {
     "name": "stdout",
     "output_type": "stream",
     "text": [
      "# Idades: [2, 1, 1, 1, 1]\n",
      "# Altura: [3.0, 2.0, 2.0, 2.0, 2.0]\n"
     ]
    }
   ],
   "source": [
    "LeIdadeEAltura()"
   ]
  },
  {
   "cell_type": "markdown",
   "metadata": {},
   "source": [
    "**Exercício 9.** Faça um Programa que leia um vetor A com 10 números inteiros, calcule e mostre a soma dos quadrados dos elementos do vetor."
   ]
  },
  {
   "cell_type": "code",
   "execution_count": 9,
   "metadata": {},
   "outputs": [],
   "source": [
    "def LeDezNumeros():\n",
    "    vetor = []\n",
    "\n",
    "    for i in range(10):\n",
    "        while True:\n",
    "            try:\n",
    "                vetor.append(int(input(f'[{i+1}] Numero: ')))\n",
    "                break\n",
    "            except:\n",
    "                print('Entrada invalida!')\n",
    "\n",
    "    list_quadrados = [valor**2 for valor in vetor]\n",
    "    print(f'# Vetor: {vetor}')\n",
    "    print(f'# Soma dos quadrados dos elementos do vetor: {sum(list_quadrados)}')"
   ]
  },
  {
   "cell_type": "code",
   "execution_count": 10,
   "metadata": {},
   "outputs": [
    {
     "name": "stdout",
     "output_type": "stream",
     "text": [
      "# Vetor: [1, 2, 3, 4, 5, 6, 7, 8, 9, 0]\n",
      "# Soma dos quadrados dos elementos do vetor: 285\n"
     ]
    }
   ],
   "source": [
    "LeDezNumeros()"
   ]
  },
  {
   "cell_type": "markdown",
   "metadata": {},
   "source": [
    "**Exercício 10.** Faça um Programa que leia dois vetores com 10 elementos cada. Gere um terceiro vetor de 20 elementos, cujos valores deverão ser compostos pelos elementos intercalados dos dois outros vetores"
   ]
  },
  {
   "cell_type": "code",
   "execution_count": 11,
   "metadata": {},
   "outputs": [],
   "source": [
    "def LeDoisVetoresDezElementos():\n",
    "    vetor_a = []\n",
    "    vetor_b = []\n",
    "\n",
    "    for i in range(20):\n",
    "        valor = input(f'[{i+1}] Elemento: ')\n",
    "        if i <= 9:\n",
    "            vetor_a.append(valor)\n",
    "        elif i > 9:\n",
    "            vetor_b.append(valor)\n",
    "\n",
    "    vetor_c = []\n",
    "    [[vetor_c.append(vetor_a[i]), vetor_c.append(vetor_b[i])] for i in range(len(vetor_a))]\n",
    "    print(vetor_c)"
   ]
  },
  {
   "cell_type": "code",
   "execution_count": 12,
   "metadata": {},
   "outputs": [
    {
     "name": "stdout",
     "output_type": "stream",
     "text": [
      "['1', '2', '1', '2', '1', '2', '1', '2', '1', '2', '1', '2', '1', '2', '1', '2', '1', '2', '1', '2']\n"
     ]
    }
   ],
   "source": [
    "LeDoisVetoresDezElementos()"
   ]
  }
 ],
 "metadata": {
  "interpreter": {
   "hash": "916dbcbb3f70747c44a77c7bcd40155683ae19c65e1c03b4aa3499c5328201f1"
  },
  "kernelspec": {
   "display_name": "Python 3.8.10 64-bit",
   "language": "python",
   "name": "python3"
  },
  "language_info": {
   "codemirror_mode": {
    "name": "ipython",
    "version": 3
   },
   "file_extension": ".py",
   "mimetype": "text/x-python",
   "name": "python",
   "nbconvert_exporter": "python",
   "pygments_lexer": "ipython3",
   "version": "3.8.10"
  },
  "orig_nbformat": 4
 },
 "nbformat": 4,
 "nbformat_minor": 2
}
