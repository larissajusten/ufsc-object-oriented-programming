{
 "cells": [
  {
   "cell_type": "markdown",
   "id": "fdcea42d-5fd3-4096-8c3f-740f01c429fd",
   "metadata": {},
   "source": [
    "**Descrição do exercício:**\n",
    "> Reimplemente o jogo da forca completamente orientado a objetos"
   ]
  },
  {
   "cell_type": "code",
   "execution_count": 4,
   "id": "d6e48f63-f863-41d8-b44e-19a553821edb",
   "metadata": {},
   "outputs": [],
   "source": [
    "import random"
   ]
  },
  {
   "cell_type": "code",
   "execution_count": 6,
   "id": "464df214-ebc5-4372-a2dc-a482e6d4fd0b",
   "metadata": {},
   "outputs": [],
   "source": [
    "class Jogador:\n",
    "    def __init__(self, vidas: int) -> None:\n",
    "        self.__vidas = vidas\n",
    "\n",
    "    @property\n",
    "    def vidas(self):\n",
    "        return self.__vidas\n",
    "\n",
    "    @vidas.setter\n",
    "    def vidas(self, novo_numero_vidas):\n",
    "        self.__vidas = novo_numero_vidas\n",
    "\n",
    "    def DiminuirVida(self, vidas_perdidas):\n",
    "        vidas_restantes = self.vidas - vidas_perdidas\n",
    "        self.vidas = vidas_restantes\n",
    "        return vidas_restantes\n",
    "\n",
    "    def PrintarVidas(self):\n",
    "        print(f'# Você tem {self.vidas} vidas')"
   ]
  },
  {
   "cell_type": "code",
   "execution_count": 7,
   "id": "66e9674e-d1af-4ed9-8e90-668900152f58",
   "metadata": {},
   "outputs": [],
   "source": [
    "class Forca:\n",
    "    def __init__(self, palavra: str) -> None:\n",
    "        self.__palavra = palavra.lower()\n",
    "        self.__letras_usadas = []\n",
    "\n",
    "    @property\n",
    "    def palavra(self):\n",
    "        return self.__palavra\n",
    "\n",
    "    @property\n",
    "    def letras_usadas(self):\n",
    "        return self.__letras_usadas\n",
    "\n",
    "    @palavra.setter\n",
    "    def palavra(self, nova_palavra):\n",
    "        self.__palavra = nova_palavra.lower()\n",
    "        \n",
    "    @letras_usadas.setter\n",
    "    def letras_usadas(self, letras_usadas):\n",
    "        self.__letras_usadas = letras_usadas\n",
    "\n",
    "    def PrintarPalavra(self):\n",
    "        print('# Palavra: ', end='')\n",
    "        for i in self.palavra:\n",
    "            if i in self.letras_usadas:\n",
    "                print(f'{i}', end='')\n",
    "            elif not i.isalpha():\n",
    "                print(f'{i}', end='')\n",
    "            else:\n",
    "                print(' _', end='')\n",
    "        print('')\n",
    "\n",
    "    def PrintarLetrasUsadas(self):\n",
    "        print('# Letras ja digitadas: [', end='')\n",
    "        for i in self.letras_usadas:\n",
    "            print(i, end=', ')\n",
    "        print(']')\n",
    "\n",
    "    def PrintarForca(self, vidas):\n",
    "        if vidas == 6:\n",
    "            print('            ______         ')\n",
    "            print('           /      |        ')\n",
    "            print('           |               ')\n",
    "            print('           |               ')\n",
    "            print('           |               ')\n",
    "            print('           |               ')\n",
    "            print('                           ')\n",
    "\n",
    "        elif vidas == 5:\n",
    "            print('            ______         ')\n",
    "            print('           /      |        ')\n",
    "            print('           |      O        ')\n",
    "            print('           |               ')\n",
    "            print('           |               ')\n",
    "            print('           |               ')\n",
    "            print('                           ')\n",
    "\n",
    "        elif vidas == 4:\n",
    "            print('            ______         ')\n",
    "            print('           /      |        ')\n",
    "            print('           |      O        ')\n",
    "            print('           |      I        ')\n",
    "            print('           |      I        ')\n",
    "            print('           |               ')\n",
    "            print('                           ')\n",
    "\n",
    "        elif vidas == 3:\n",
    "            print('            ______         ')\n",
    "            print('           /      |        ')\n",
    "            print('           |      O        ')\n",
    "            print('           |    / I        ')\n",
    "            print('           |      I        ')\n",
    "            print('           |               ')\n",
    "            print('                           ')\n",
    "\n",
    "        elif vidas == 2:\n",
    "            print('            ______         ')\n",
    "            print('           /      |        ')\n",
    "            print('           |      O        ')\n",
    "            print('           |    / I \\      ')\n",
    "            print('           |      I        ')\n",
    "            print('           |               ')\n",
    "            print('                           ')\n",
    "\n",
    "        elif vidas == 1:\n",
    "            print('            ______         ')\n",
    "            print('           /      |        ')\n",
    "            print('           |      O        ')\n",
    "            print('           |    / I \\      ')\n",
    "            print('           |      I        ')\n",
    "            print('           |    /          ')\n",
    "            print('                           ')\n",
    "\n",
    "        elif vidas == 0:\n",
    "            print('            ______         ')\n",
    "            print('           /      |        ')\n",
    "            print('           |      O        ')\n",
    "            print('           |    / I \\      ')\n",
    "            print('           |      I        ')\n",
    "            print('           |    /   \\      ')\n",
    "            print('                           ')\n",
    "    \n",
    "    def AdicionaNovaPalavra(self, nova_palavra):\n",
    "        self.palavra = nova_palavra\n",
    "        self.letras_usadas = []\n",
    "\n",
    "    def AdicionaNovaLetraUsada(self, nova_letra_usada):\n",
    "        self.__letras_usadas.append(nova_letra_usada)\n",
    "\n",
    "    def CheckPalavraInLetrasUsadas(self):\n",
    "        palavra = self.__palavra.replace(\" \", \"\")\n",
    "        numero = [1 for letra in palavra if letra in self.letras_usadas]\n",
    "        return sum(numero) == len(palavra)\n",
    "\n",
    "    def CheckLetraInLetrasUsadas(self, letra):\n",
    "        return letra in self.letras_usadas\n",
    "    \n",
    "    def CheckLetraInPalavra(self, letra):\n",
    "        return letra in self.palavra"
   ]
  },
  {
   "cell_type": "code",
   "execution_count": 8,
   "id": "49c71001-77c5-4b9c-a859-af5531bc843f",
   "metadata": {},
   "outputs": [],
   "source": [
    "class Jogo:\n",
    "    def __init__(self) -> None:\n",
    "        self.__forca = None\n",
    "        self.__jogador = None\n",
    "\n",
    "    @property\n",
    "    def forca(self):\n",
    "        return self.__forca\n",
    "\n",
    "    @property\n",
    "    def jogador(self):\n",
    "        return self.__jogador\n",
    "    \n",
    "    @forca.setter\n",
    "    def forca(self, forca):\n",
    "        self.__forca = forca\n",
    "\n",
    "    @jogador.setter\n",
    "    def jogador(self, jogador):\n",
    "        self.__jogador = jogador\n",
    "\n",
    "    def DigitarLetra(self):\n",
    "        print('')\n",
    "        letra = input('> Digite uma letra: ')[0].lower()\n",
    "        if letra.isalpha() and not self.forca.CheckPalavraInLetrasUsadas() and self.jogador.vidas > 0:\n",
    "            if self.forca.CheckLetraInPalavra(letra) and not self.forca.CheckLetraInLetrasUsadas(letra):\n",
    "                self.forca.AdicionaNovaLetraUsada(letra)\n",
    "            elif self.forca.CheckLetraInLetrasUsadas(letra):\n",
    "                print('# Letra ja utilizada!')\n",
    "                self.DigitarLetra()\n",
    "            else:\n",
    "                self.forca.AdicionaNovaLetraUsada(letra)\n",
    "                self.jogador.DiminuirVida(1)\n",
    "        else:\n",
    "            print('# Caracter invalido!')\n",
    "            self.DigitarLetra()\n",
    "\n",
    "    def PrintarInformacoes(self):\n",
    "        print('# FORCA')\n",
    "        self.forca.PrintarForca(self.jogador.vidas)\n",
    "        self.forca.PrintarPalavra()\n",
    "        self.forca.PrintarLetrasUsadas()\n",
    "        self.jogador.PrintarVidas()\n",
    "\n",
    "    def DinamicaJogo(self):\n",
    "        self.PrintarInformacoes()\n",
    "        self.DigitarLetra()\n",
    "\n",
    "    def TentarNovamente(self):\n",
    "        escolha = input('# Deseja tentar novamente: [S/N] ')\n",
    "        if escolha == 's':\n",
    "            self.IniciarJogo()\n",
    "        if escolha == 'n':\n",
    "            return None\n",
    "        else:\n",
    "            self.TentarNovamente()\n",
    "\n",
    "    def IniciarJogo(self):\n",
    "        index_palavra_aleatoria = random.randint(0, len(palavras)-1)\n",
    "        self.forca = Forca(palavras[index_palavra_aleatoria])\n",
    "        self.jogador = Jogador(6)\n",
    "\n",
    "        while not self.forca.CheckPalavraInLetrasUsadas() and self.jogador.vidas > 0:\n",
    "            self.DinamicaJogo()\n",
    "        self.PrintarInformacoes()\n",
    "\n",
    "        print('')\n",
    "        if self.jogador.vidas == 0:\n",
    "            print('# Acabaram suas vidas!')\n",
    "            self.TentarNovamente()\n",
    "        else:\n",
    "            print('# Parabens! Voce ganhou o jogo!')\n",
    "            self.TentarNovamente()"
   ]
  },
  {
   "cell_type": "code",
   "execution_count": 9,
   "id": "97198392-26a3-4c80-b1ea-6f33105a79a7",
   "metadata": {},
   "outputs": [],
   "source": [
    "palavras = [\n",
    "    'museu', 'casa', 'aviao', 'computador',\n",
    "    'Alan Turing', 'notebook', 'impressora',\n",
    "    'mouse', 'teclado', 'celular', 'controle',\n",
    "    'fone de ouvido', 'tesoura', 'caneta', 'mouse pad',\n",
    "    'sofa', 'alcool em gel', 'covid', 'pendrive'\n",
    "]"
   ]
  },
  {
   "cell_type": "code",
   "execution_count": 10,
   "id": "0ba4ee84-3f51-49b3-a622-7908a695c4c4",
   "metadata": {},
   "outputs": [
    {
     "name": "stdout",
     "output_type": "stream",
     "text": [
      "# Exercicio 8 - Jogo da Forca\n",
      "# FORCA\n",
      "            ______         \n",
      "           /      |        \n",
      "           |               \n",
      "           |               \n",
      "           |               \n",
      "           |               \n",
      "                           \n",
      "# Palavra:  _ _ _ _ _ _ _ _\n",
      "# Letras ja digitadas: []\n",
      "# Você tem 6 vidas\n",
      "\n"
     ]
    },
    {
     "name": "stdin",
     "output_type": "stream",
     "text": [
      "> Digite uma letra:  a\n"
     ]
    },
    {
     "name": "stdout",
     "output_type": "stream",
     "text": [
      "# FORCA\n",
      "            ______         \n",
      "           /      |        \n",
      "           |      O        \n",
      "           |               \n",
      "           |               \n",
      "           |               \n",
      "                           \n",
      "# Palavra:  _ _ _ _ _ _ _ _\n",
      "# Letras ja digitadas: [a, ]\n",
      "# Você tem 5 vidas\n",
      "\n"
     ]
    },
    {
     "name": "stdin",
     "output_type": "stream",
     "text": [
      "> Digite uma letra:  a\n"
     ]
    },
    {
     "name": "stdout",
     "output_type": "stream",
     "text": [
      "# Letra ja utilizada!\n",
      "\n"
     ]
    },
    {
     "name": "stdin",
     "output_type": "stream",
     "text": [
      "> Digite uma letra:  e\n"
     ]
    },
    {
     "name": "stdout",
     "output_type": "stream",
     "text": [
      "# FORCA\n",
      "            ______         \n",
      "           /      |        \n",
      "           |      O        \n",
      "           |               \n",
      "           |               \n",
      "           |               \n",
      "                           \n",
      "# Palavra:  _ _ _e _ _ _ _\n",
      "# Letras ja digitadas: [a, e, ]\n",
      "# Você tem 5 vidas\n",
      "\n"
     ]
    },
    {
     "name": "stdin",
     "output_type": "stream",
     "text": [
      "> Digite uma letra:  w\n"
     ]
    },
    {
     "name": "stdout",
     "output_type": "stream",
     "text": [
      "# FORCA\n",
      "            ______         \n",
      "           /      |        \n",
      "           |      O        \n",
      "           |      I        \n",
      "           |      I        \n",
      "           |               \n",
      "                           \n",
      "# Palavra:  _ _ _e _ _ _ _\n",
      "# Letras ja digitadas: [a, e, w, ]\n",
      "# Você tem 4 vidas\n",
      "\n"
     ]
    },
    {
     "name": "stdin",
     "output_type": "stream",
     "text": [
      "> Digite uma letra:  g\n"
     ]
    },
    {
     "name": "stdout",
     "output_type": "stream",
     "text": [
      "# FORCA\n",
      "            ______         \n",
      "           /      |        \n",
      "           |      O        \n",
      "           |    / I        \n",
      "           |      I        \n",
      "           |               \n",
      "                           \n",
      "# Palavra:  _ _ _e _ _ _ _\n",
      "# Letras ja digitadas: [a, e, w, g, ]\n",
      "# Você tem 3 vidas\n",
      "\n"
     ]
    },
    {
     "name": "stdin",
     "output_type": "stream",
     "text": [
      "> Digite uma letra:  c\n"
     ]
    },
    {
     "name": "stdout",
     "output_type": "stream",
     "text": [
      "# FORCA\n",
      "            ______         \n",
      "           /      |        \n",
      "           |      O        \n",
      "           |    / I \\      \n",
      "           |      I        \n",
      "           |               \n",
      "                           \n",
      "# Palavra:  _ _ _e _ _ _ _\n",
      "# Letras ja digitadas: [a, e, w, g, c, ]\n",
      "# Você tem 2 vidas\n",
      "\n"
     ]
    },
    {
     "name": "stdin",
     "output_type": "stream",
     "text": [
      "> Digite uma letra:  t\n"
     ]
    },
    {
     "name": "stdout",
     "output_type": "stream",
     "text": [
      "# FORCA\n",
      "            ______         \n",
      "           /      |        \n",
      "           |      O        \n",
      "           |    / I \\      \n",
      "           |      I        \n",
      "           |               \n",
      "                           \n",
      "# Palavra:  _ _te _ _ _ _\n",
      "# Letras ja digitadas: [a, e, w, g, c, t, ]\n",
      "# Você tem 2 vidas\n",
      "\n"
     ]
    },
    {
     "name": "stdin",
     "output_type": "stream",
     "text": [
      "> Digite uma letra:  b\n"
     ]
    },
    {
     "name": "stdout",
     "output_type": "stream",
     "text": [
      "# FORCA\n",
      "            ______         \n",
      "           /      |        \n",
      "           |      O        \n",
      "           |    / I \\      \n",
      "           |      I        \n",
      "           |               \n",
      "                           \n",
      "# Palavra:  _ _teb _ _ _\n",
      "# Letras ja digitadas: [a, e, w, g, c, t, b, ]\n",
      "# Você tem 2 vidas\n",
      "\n"
     ]
    },
    {
     "name": "stdin",
     "output_type": "stream",
     "text": [
      "> Digite uma letra:  o\n"
     ]
    },
    {
     "name": "stdout",
     "output_type": "stream",
     "text": [
      "# FORCA\n",
      "            ______         \n",
      "           /      |        \n",
      "           |      O        \n",
      "           |    / I \\      \n",
      "           |      I        \n",
      "           |               \n",
      "                           \n",
      "# Palavra:  _oteboo _\n",
      "# Letras ja digitadas: [a, e, w, g, c, t, b, o, ]\n",
      "# Você tem 2 vidas\n",
      "\n"
     ]
    },
    {
     "name": "stdin",
     "output_type": "stream",
     "text": [
      "> Digite uma letra:  n\n"
     ]
    },
    {
     "name": "stdout",
     "output_type": "stream",
     "text": [
      "# FORCA\n",
      "            ______         \n",
      "           /      |        \n",
      "           |      O        \n",
      "           |    / I \\      \n",
      "           |      I        \n",
      "           |               \n",
      "                           \n",
      "# Palavra: noteboo _\n",
      "# Letras ja digitadas: [a, e, w, g, c, t, b, o, n, ]\n",
      "# Você tem 2 vidas\n",
      "\n"
     ]
    },
    {
     "name": "stdin",
     "output_type": "stream",
     "text": [
      "> Digite uma letra:  y\n"
     ]
    },
    {
     "name": "stdout",
     "output_type": "stream",
     "text": [
      "# FORCA\n",
      "            ______         \n",
      "           /      |        \n",
      "           |      O        \n",
      "           |    / I \\      \n",
      "           |      I        \n",
      "           |    /          \n",
      "                           \n",
      "# Palavra: noteboo _\n",
      "# Letras ja digitadas: [a, e, w, g, c, t, b, o, n, y, ]\n",
      "# Você tem 1 vidas\n",
      "\n"
     ]
    },
    {
     "name": "stdin",
     "output_type": "stream",
     "text": [
      "> Digite uma letra:  z\n"
     ]
    },
    {
     "name": "stdout",
     "output_type": "stream",
     "text": [
      "# FORCA\n",
      "            ______         \n",
      "           /      |        \n",
      "           |      O        \n",
      "           |    / I \\      \n",
      "           |      I        \n",
      "           |    /   \\      \n",
      "                           \n",
      "# Palavra: noteboo _\n",
      "# Letras ja digitadas: [a, e, w, g, c, t, b, o, n, y, z, ]\n",
      "# Você tem 0 vidas\n",
      "\n",
      "# Acabaram suas vidas!\n"
     ]
    },
    {
     "name": "stdin",
     "output_type": "stream",
     "text": [
      "# Deseja tentar novamente: [S/N]  n\n"
     ]
    }
   ],
   "source": [
    "print('# Exercicio 8 - Jogo da Forca')\n",
    "jogo = Jogo()\n",
    "jogo.IniciarJogo()"
   ]
  }
 ],
 "metadata": {
  "kernelspec": {
   "display_name": "Python 3 (ipykernel)",
   "language": "python",
   "name": "python3"
  },
  "language_info": {
   "codemirror_mode": {
    "name": "ipython",
    "version": 3
   },
   "file_extension": ".py",
   "mimetype": "text/x-python",
   "name": "python",
   "nbconvert_exporter": "python",
   "pygments_lexer": "ipython3",
   "version": "3.8.10"
  }
 },
 "nbformat": 4,
 "nbformat_minor": 5
}
