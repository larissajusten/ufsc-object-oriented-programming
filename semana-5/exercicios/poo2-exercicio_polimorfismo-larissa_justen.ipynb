{
 "cells": [
  {
   "cell_type": "markdown",
   "id": "c13c82e8",
   "metadata": {},
   "source": [
    "## Exercício polimorfismo (entrega até 29/11)\n",
    "- Crie uma classe chamada **Transporte** para representar um veículo de transporte. A classe possui cinco atributos, denominados:\n",
    "  - `nome`: nome do veículo de transporte;\n",
    "  - `altura`: altura do veículo de transporte em metros (m);\n",
    "  - `comprimento`: comprimento do veículo de transporte em metros (m);\n",
    "  - `carga`: capacidade de carga do veículo de transporte em toneladas (t);\n",
    "  - `velocidade`: velocidade do veículo de transporte em quilômetros por hora (km/h)"
   ]
  },
  {
   "cell_type": "code",
   "execution_count": 1,
   "id": "3f137ab2",
   "metadata": {},
   "outputs": [],
   "source": [
    "from abc import ABC"
   ]
  },
  {
   "cell_type": "code",
   "execution_count": 10,
   "id": "338d40d7",
   "metadata": {},
   "outputs": [],
   "source": [
    "class Transporte(ABC):\n",
    "    def __init__(self, nome: str, altura: float, comprimento: float, carga: float, velocidade: float) -> None:\n",
    "        self.__nome = nome\n",
    "        self.__altura = altura\n",
    "        self.__comprimento = comprimento\n",
    "        self.__carga = carga\n",
    "        self.__velocidade = velocidade\n",
    "\n",
    "    @property\n",
    "    def nome(self) -> str:\n",
    "        return self.__nome\n",
    "\n",
    "    @nome.setter\n",
    "    def nome(self, nome: str) -> None:\n",
    "        self.__nome = nome\n",
    "\n",
    "    @property\n",
    "    def altura(self) -> float:\n",
    "        return self.__altura\n",
    "\n",
    "    @altura.setter\n",
    "    def altura(self, altura: float) -> None:\n",
    "        self.__altura = altura\n",
    "\n",
    "    @property\n",
    "    def comprimento(self) -> float:\n",
    "        return self.__comprimento\n",
    "\n",
    "    @comprimento.setter\n",
    "    def comprimento(self, comprimento: float) -> None:\n",
    "        self.__comprimento = comprimento\n",
    "\n",
    "    @property\n",
    "    def carga(self) -> float:\n",
    "        return self.__carga\n",
    "\n",
    "    @carga.setter\n",
    "    def carga(self, carga: float) -> None:\n",
    "        self.__carga = carga\n",
    "\n",
    "    @property\n",
    "    def velocidade(self) -> float:\n",
    "        return self.__velocidade\n",
    "\n",
    "    @velocidade.setter\n",
    "    def velocidade(self, velocidade: float) -> None:\n",
    "        self.__velocidade = velocidade\n",
    "\n",
    "    def mostrar_veiculo(self) -> str:\n",
    "        return f'\\n[{self.nome}] Altura: {self.altura}' + f'\\n[{self.nome}] Comprimento: {self.comprimento}' + f'\\n[{self.nome}] Carga: {self.carga}' + f'\\n[{self.nome}] Velocidade: {self.velocidade}'"
   ]
  },
  {
   "cell_type": "markdown",
   "id": "b98bab08",
   "metadata": {},
   "source": [
    "- Estenda a classe Transporte para implementar uma classe chamada **TransporteAereo** para representar um veículo de transporte aéreo. A classe possui dois atributos, denominados:\n",
    "  - `autonomia`: autonomia de voo do veículo de transporte aéreo em quilômetros (km);\n",
    "  - `envergadura`: envergadura da asa do veículo de transporte aéreo em metros (m)."
   ]
  },
  {
   "cell_type": "code",
   "execution_count": 11,
   "id": "9264a5fe",
   "metadata": {},
   "outputs": [],
   "source": [
    "class TransporteAereo(Transporte):\n",
    "    def __init__(self, nome: str, altura: float, comprimento: float, carga: float, velocidade: float, autonomia: float, envergadura: float) -> None:\n",
    "        super().__init__(nome, altura, comprimento, carga, velocidade)\n",
    "        self.__autonomia = autonomia\n",
    "        self.__envergadura = envergadura\n",
    "\n",
    "    @property\n",
    "    def autonomia(self) -> float:\n",
    "        return self.__autonomia\n",
    "\n",
    "    @property\n",
    "    def envergadura(self) -> float:\n",
    "        return self.__envergadura\n",
    "\n",
    "    def mostrar_veiculo(self) -> str:\n",
    "        return f'\\n[{self.nome}] Altura: {self.altura}' + f'\\n[{self.nome}] Comprimento: {self.comprimento}' + f'\\n[{self.nome}] Carga: {self.carga}' + f'\\n[{self.nome}] Velocidade: {self.velocidade}' + f'\\n[{self.nome}] Autonomia: {self.autonomia}' + f'\\n[{self.nome}] Envergadura: {self.envergadura}'"
   ]
  },
  {
   "cell_type": "markdown",
   "id": "9f4ce400",
   "metadata": {},
   "source": [
    "- Estenda a classe Transporte para implementar uma classe chamada **TransporteTerrestre** para representar um veículo de transporte terrestre. A classe possui dois atributos, denominados:\n",
    "  - `motor`: motor do veículo de transporte terrestre, do tipo String;\n",
    "  - `rodas`: rodas do veículo de transporte terrestre, do tipo String."
   ]
  },
  {
   "cell_type": "code",
   "execution_count": 12,
   "id": "492dcffd",
   "metadata": {},
   "outputs": [],
   "source": [
    "class TransporteTerrestre(Transporte):\n",
    "    def __init__(self, nome: str, altura: float, comprimento: float, carga: float, velocidade: float, motor: str, rodas: str) -> None:\n",
    "        super().__init__(nome, altura, comprimento, carga, velocidade)\n",
    "        self.__motor = motor\n",
    "        self.__rodas = rodas\n",
    "\n",
    "    @property\n",
    "    def motor(self) -> str:\n",
    "        return self.__motor\n",
    "\n",
    "    @property\n",
    "    def rodas(self) -> str:\n",
    "        return self.__rodas\n",
    "\n",
    "    def mostrar_veiculo(self) -> str:\n",
    "        return f'\\n[{self.nome}] Altura: {self.altura}' + f'\\n[{self.nome}] Comprimento: {self.comprimento}' + f'\\n[{self.nome}] Carga: {self.carga}' + f'\\n[{self.nome}] Velocidade: {self.velocidade}' + f'\\n[{self.nome}] Motor: {self.motor}' + f'\\n[{self.nome}] Rodas: {self.rodas}'"
   ]
  },
  {
   "cell_type": "markdown",
   "id": "6311313b",
   "metadata": {},
   "source": [
    "- Estenda a classe Transporte para implementar uma classe chamada **TransporteAquatico** para representar um veículo de transporte marítimo. A classe possui dois atributos, denominados:\n",
    "  - `boca`: boca náutica do veículo de transporte marítimo em metros (m);\n",
    "  - `calado`: calado do veículo de transporte marítimo em metros (m)."
   ]
  },
  {
   "cell_type": "code",
   "execution_count": 13,
   "id": "3e710c11",
   "metadata": {},
   "outputs": [],
   "source": [
    "class TransporteAquatico(Transporte):\n",
    "    def __init__(self, nome: str, altura: float, comprimento: float, carga: float, velocidade: float, boca: float, calado: float) -> None:\n",
    "        super().__init__(nome, altura, comprimento, carga, velocidade)\n",
    "        self.__boca = boca\n",
    "        self.__calado = calado\n",
    "\n",
    "    @property\n",
    "    def boca(self) -> str:\n",
    "        return self.__boca\n",
    "\n",
    "    @property\n",
    "    def calado(self) -> str:\n",
    "        return self.__calado\n",
    "\n",
    "    def mostrar_veiculo(self) -> str:\n",
    "        return f'\\n[{self.nome}] Altura: {self.altura}' + f'\\n[{self.nome}] Comprimento: {self.comprimento}' + f'\\n[{self.nome}] Carga: {self.carga}' + f'\\n[{self.nome}] Velocidade: {self.velocidade}' + f'\\n[{self.nome}] Boca: {self.boca}' + f'\\n[{self.nome}] Calado: {self.calado}'"
   ]
  },
  {
   "cell_type": "markdown",
   "id": "cf146175",
   "metadata": {},
   "source": [
    "- Desenvolva uma classe chamada **Catálogo** para representar um catálogo de veículos de transporte, implementando os métodos para inserção e apresentação (mostrar) dos veículos de transporte cadastrados."
   ]
  },
  {
   "cell_type": "code",
   "execution_count": 14,
   "id": "78c0a6fb",
   "metadata": {},
   "outputs": [],
   "source": [
    "class Catalogo:\n",
    "    def __init__(self) -> None:\n",
    "        self.__veiculos_cadastrados = []\n",
    "\n",
    "    @property\n",
    "    def veiculos_cadastrados(self):\n",
    "        return self.__veiculos_cadastrados\n",
    "\n",
    "    def inserir_veiculo(self, veiculo: TransporteTerrestre or TransporteAquatico or TransporteAereo or Transporte) -> None:\n",
    "        if isinstance(veiculo, TransporteAquatico) or isinstance(veiculo, TransporteTerrestre) or isinstance(veiculo, TransporteAereo):\n",
    "            self.__veiculos_cadastrados.append(veiculo)\n",
    "        else:\n",
    "            print('Valor invalido!')\n",
    "\n",
    "    def mostrar_veiculos(self):\n",
    "        for veiculo in self.veiculos_cadastrados:\n",
    "            print(veiculo.mostrar_veiculo())"
   ]
  },
  {
   "cell_type": "code",
   "execution_count": 16,
   "id": "eef401c7",
   "metadata": {},
   "outputs": [
    {
     "name": "stdout",
     "output_type": "stream",
     "text": [
      "Valor invalido!\n",
      "\n",
      "[navio] Altura: 2\n",
      "[navio] Comprimento: 3\n",
      "[navio] Carga: 100\n",
      "[navio] Velocidade: 50\n",
      "[navio] Boca: 50\n",
      "[navio] Calado: 50\n",
      "\n",
      "[carro] Altura: 2\n",
      "[carro] Comprimento: 3\n",
      "[carro] Carga: 100\n",
      "[carro] Velocidade: 50\n",
      "[carro] Motor: zetta\n",
      "[carro] Rodas: pirelli\n",
      "\n",
      "[aviao] Altura: 2\n",
      "[aviao] Comprimento: 3\n",
      "[aviao] Carga: 100\n",
      "[aviao] Velocidade: 50\n",
      "[aviao] Autonomia: 5.8\n",
      "[aviao] Envergadura: 7.9\n"
     ]
    }
   ],
   "source": [
    "catalogo = Catalogo()\n",
    "catalogo.inserir_veiculo(TransporteAquatico(\n",
    "    'navio', 2, 3, 100, 50, 50, 50))\n",
    "catalogo.inserir_veiculo(TransporteTerrestre(\n",
    "    'carro', 2, 3, 100, 50, 'zetta', 'pirelli'))\n",
    "catalogo.inserir_veiculo(TransporteAereo('aviao', 2, 3, 100, 50, 5.8, 7.9))\n",
    "catalogo.inserir_veiculo('')\n",
    "catalogo.mostrar_veiculos()"
   ]
  },
  {
   "cell_type": "code",
   "execution_count": null,
   "id": "15742942",
   "metadata": {},
   "outputs": [],
   "source": []
  }
 ],
 "metadata": {
  "kernelspec": {
   "display_name": "Python 3 (ipykernel)",
   "language": "python",
   "name": "python3"
  },
  "language_info": {
   "codemirror_mode": {
    "name": "ipython",
    "version": 3
   },
   "file_extension": ".py",
   "mimetype": "text/x-python",
   "name": "python",
   "nbconvert_exporter": "python",
   "pygments_lexer": "ipython3",
   "version": "3.8.10"
  }
 },
 "nbformat": 4,
 "nbformat_minor": 5
}
