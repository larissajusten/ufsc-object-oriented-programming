{
 "cells": [
  {
   "cell_type": "markdown",
   "id": "78de685b-9131-43c4-965f-ff7edced9415",
   "metadata": {},
   "source": [
    "**Descrição do exercício:**\n",
    "> O banco Tatu, moderno e eficiente, precisa de um novo programa para controlar o saldo de seus correntistas.\n",
    "Cada conta corrente pode ter um ou mais clientes como titular. \n",
    "O banco controla apenas o nome e o telefone de cada cliente. \n",
    "A conta corrente apresenta um saldo e uma lista de operações de saques e depósitos. \n",
    "Quando o cliente fizer um saque, diminuiremos o saldo da conta corrente. \n",
    "Quando ele fizer um depósito, aumentaremos o saldo. \n",
    "O banco oferece também contas especiais, com limite especial além do saldo, e conta poupança, que oferece um rendimento mensal sempre que o saldo na conta completa um mês. \n",
    "Evidentemente é necessário oferecer aos clientes a possibilidade de verificar saldos, extratos e um resumo com todas as informações da conta e seus respectivos clientes."
   ]
  },
  {
   "cell_type": "code",
   "execution_count": 18,
   "id": "e64fe638-ac73-437d-8552-590dd5ebf6f0",
   "metadata": {},
   "outputs": [],
   "source": [
    "from abc import ABC, abstractmethod\n",
    "from datetime import datetime\n",
    "import re"
   ]
  },
  {
   "cell_type": "code",
   "execution_count": 19,
   "id": "ed33f84d-097f-493b-a572-244c8a767b99",
   "metadata": {},
   "outputs": [],
   "source": [
    "class Cliente:\n",
    "    def __init__(self, nome, telefone):\n",
    "        self.__nome = nome\n",
    "        self.__telefone = telefone\n",
    "\n",
    "    @property\n",
    "    def nome(self):\n",
    "        return self.__nome\n",
    "\n",
    "    @property\n",
    "    def telefone(self):\n",
    "        return self.__telefone"
   ]
  },
  {
   "cell_type": "code",
   "execution_count": 20,
   "id": "be836f81-d042-461d-9773-c246dc744eea",
   "metadata": {},
   "outputs": [],
   "source": [
    "class Banco:\n",
    "    def __init__(self):\n",
    "        self.__contasCorrente = []\n",
    "        self.__contasEspeciais = []\n",
    "        self.__contasPoupança = []\n",
    "\n",
    "    @property\n",
    "    def contasCorrente(self):\n",
    "        return self.__contasCorrente\n",
    "\n",
    "    @property\n",
    "    def contasEspeciais(self):\n",
    "        return self.__contasEspeciais\n",
    "\n",
    "    @property\n",
    "    def contasPoupança(self):\n",
    "        return self.__contasPoupança\n",
    "\n",
    "    @contasCorrente.setter\n",
    "    def contasCorrente(self, nova_conta):\n",
    "        self.contasCorrente.append(nova_conta)\n",
    "\n",
    "    @contasEspeciais.setter\n",
    "    def contasEspeciais(self, nova_conta):\n",
    "        self.contasEspeciais.append(nova_conta)\n",
    "\n",
    "    @contasPoupança.setter\n",
    "    def contasPoupança(self, novaConta):\n",
    "        self.contasPoupança.append(novaConta)\n",
    "\n",
    "    def AdicionarContaCorrente(self, novaConta):\n",
    "        self.contasCorrente = novaConta\n",
    "\n",
    "    def AdicionarContaEspecial(self, novaConta):\n",
    "        self.contasEspeciais = novaConta\n",
    "\n",
    "    def AdicionarContaPoupanca(self, novaConta):\n",
    "        self.contasPoupança = novaConta\n",
    "\n",
    "    def VisualizarClientes(self):\n",
    "        for conta in self.contasPoupança + self.contasCorrente + self.contasEspeciais:\n",
    "            conta.VisualizarTitulares()\n",
    "\n",
    "    def VisualizarInformacoesContas(self):\n",
    "        print('')\n",
    "        print('# CONTAS POUPANCA')\n",
    "        for i, conta in enumerate(self.contasPoupança):\n",
    "            print(f'Conta {i}')\n",
    "            print(f'[Saldo]: {conta.saldo}')\n",
    "            conta.VisualizarTitulares()\n",
    "        \n",
    "        print('')\n",
    "        print('# CONTAS CORRENTE')\n",
    "        for i, conta in enumerate(self.contasCorrente):\n",
    "\n",
    "            print(f'Conta {i+len(self.contasPoupança)}')\n",
    "            print(f'[Saldo]: {conta.saldo}')\n",
    "            conta.VisualizarTitulares()\n",
    "\n",
    "        print('')\n",
    "        print('# CONTAS ESPECIAIS')\n",
    "        for i, conta in enumerate(self.contasEspeciais):\n",
    "            print(f'Conta {i+len(self.contasPoupança)+len(self.contasCorrente)}')\n",
    "            print(f'[Saldo]: {conta.saldo}')\n",
    "            conta.VisualizarTitulares()\n",
    "\n",
    "    def ProcurarConta(self, nome):\n",
    "        for conta in self.contasPoupança + self.contasCorrente + self.contasEspeciais:\n",
    "            conta_encontrada = [conta for titular in conta.titulares if nome.lower() in titular.nome.lower()]\n",
    "            if conta_encontrada: \n",
    "                return conta_encontrada[0]\n",
    "        return False\n",
    "\n",
    "    def ProcurarCliente(self, nome):\n",
    "        for conta in self.contasPoupança + self.contasCorrente + self.contasEspeciais:\n",
    "            cliente = [titular.nome for titular in conta.titulares if nome.lower() in titular.nome.lower()]\n",
    "            if cliente: \n",
    "                return cliente[0]\n",
    "        return False"
   ]
  },
  {
   "cell_type": "code",
   "execution_count": 72,
   "id": "1950a928-6f68-4b68-a327-9790d4620fe0",
   "metadata": {},
   "outputs": [],
   "source": [
    "class Conta(ABC):\n",
    "    def __init__(self, titulares):\n",
    "        self.__saldo = 0\n",
    "        self.__titulares = titulares\n",
    "        self.__extrato = []\n",
    "\n",
    "    @property\n",
    "    def saldo(self):\n",
    "        return self.__saldo\n",
    "\n",
    "    @property\n",
    "    def extrato(self):\n",
    "        return self.__extrato\n",
    "\n",
    "    @property\n",
    "    def titulares(self):\n",
    "        return self.__titulares\n",
    "\n",
    "    @saldo.setter\n",
    "    def saldo(self, valor):\n",
    "        self.__saldo = valor\n",
    "\n",
    "    @extrato.setter\n",
    "    def extrato(self, nova_operacao):\n",
    "        self.extrato.append(nova_operacao)\n",
    "\n",
    "    @abstractmethod\n",
    "    def InformacoesEspecificasDaConta(self):\n",
    "        print(f'# Saldo: {self.saldo}')\n",
    "\n",
    "    def Sacar(self, valor):\n",
    "        if valor.isspace() or not valor.isnumeric():\n",
    "            print('# Valor invalido!')\n",
    "        elif float(valor) < 0:\n",
    "            print('# Valor invalido!')\n",
    "        elif float(valor) > self.saldo:\n",
    "            print('# Saldo insuficiente! Não foi possivel realizar a operação.')\n",
    "        else:\n",
    "            self.saldo = self.saldo - float(valor)\n",
    "            print(f'# Saque de R$ {float(valor)} realizado com sucesso!')\n",
    "            print(f'# Saldo: {self.saldo}')\n",
    "            self.extrato = f'# (Saldo) Saque de R$ {float(valor)} -> {round(self.saldo, 2)}'\n",
    "\n",
    "    def Depositar(self, valor):\n",
    "        if valor.isspace() or not valor.isnumeric():\n",
    "            print('# Valor invalido!')\n",
    "        elif float(valor) < 0:\n",
    "            print('# Valor invalido!')\n",
    "        elif float(valor) > 0:\n",
    "            valor = float(valor)\n",
    "            self.saldo = self.saldo + valor\n",
    "            print(f'# Deposito de R$ {valor} realizado com sucesso!')\n",
    "            print(f'# Saldo: {self.saldo}')\n",
    "            self.extrato = f'# (Saldo) Deposito de R$ {valor} -> {self.saldo}'\n",
    "\n",
    "    def TirarExtrato(self):\n",
    "        if not self.extrato:\n",
    "            print('# Extrato vazio!')\n",
    "            return None\n",
    "\n",
    "        print(f'# Saldo: {self.saldo}')\n",
    "        print('# Extrato:')\n",
    "        for i, operacao in enumerate(self.extrato):\n",
    "            print(f'[{i}]: {operacao}')\n",
    "\n",
    "    def VisualizarTitulares(self):\n",
    "        for titular in self.titulares:\n",
    "            print(f'[{titular.nome}]: {titular.telefone}')"
   ]
  },
  {
   "cell_type": "code",
   "execution_count": 61,
   "id": "7b9a0d16-2688-4a19-a9eb-523416c363bb",
   "metadata": {},
   "outputs": [],
   "source": [
    "class ContaCorrente(Conta):\n",
    "    def __init__(self, titulares):\n",
    "        super().__init__(titulares)\n",
    "\n",
    "    def InformacoesEspecificasDaConta(self):\n",
    "        print(f'# Saldo: {self.saldo}')"
   ]
  },
  {
   "cell_type": "code",
   "execution_count": 73,
   "id": "fdfac842-c08a-4601-b767-da85389e0bce",
   "metadata": {},
   "outputs": [],
   "source": [
    "class ContaEspecial(Conta):\n",
    "    def __init__(self, titulares):\n",
    "        super().__init__(titulares)\n",
    "        self.__limite_especial = 400\n",
    "\n",
    "    @property\n",
    "    def limite_especial(self):\n",
    "        return self.__limite_especial\n",
    "\n",
    "    @limite_especial.setter\n",
    "    def limite_especial(self, novo_limite_especial):\n",
    "        self.__limite_especial = novo_limite_especial\n",
    "\n",
    "    def InformacoesEspecificasDaConta(self):\n",
    "        print(f'# Saldo: {self.saldo} - Limite Especial: {self.limite_especial}')\n",
    "\n",
    "    def Sacar(self, valor):\n",
    "        if valor.isspace() or not valor.isnumeric():\n",
    "            print('# Valor invalido!')\n",
    "        elif float(valor) < 0:\n",
    "            print('# Valor invalido!')\n",
    "        elif (float(valor) > self.saldo and self.limite_especial > (float(valor) - self.saldo)) or float(valor) == (self.saldo + self.limite_especial):\n",
    "            resp = input('> Deseja utilizar o limite especial? [S/N]: ')[0].upper()\n",
    "            if resp == 'S':\n",
    "                self.__SacarLimiteEspecial(float(valor) - self.saldo)\n",
    "                if self.saldo != 0:\n",
    "                    self.extrato = f'# (Saldo) Saque de R$ {float(valor)} -> {round(self.saldo, 2)}'\n",
    "                self.extrato = f'# (Limite Especial) Saque de {round(float(valor) - self.saldo, 2)} no limite especial -> {round(self.limite_especial, 2)}'\n",
    "                self.saldo = 0\n",
    "\n",
    "                print(f'# Saque de R$ {float(valor)} realizado com sucesso!')\n",
    "                print(f'# Saldo: {self.saldo} - Limite Especial: {self.limite_especial}')\n",
    "            else:\n",
    "                print('# Saldo insuficiente! Não foi possivel realizar a operação.')\n",
    "        elif float(valor) > self.saldo:\n",
    "            print('# Saldo insuficiente! Não foi possivel realizar a operação.')\n",
    "        else:\n",
    "            self.saldo = self.saldo - float(valor)\n",
    "            print(f'# Saque de R$ {float(valor)} realizado com sucesso' )\n",
    "            print(f'# Saldo: {self.saldo} - Limite Especial: {self.limite_especial}')\n",
    "            self.extrato = f'# (Saldo) Saque de R$ {float(valor)} -> {round(self.saldo, 2)}'\n",
    "\n",
    "    def __SacarLimiteEspecial(self, valor):\n",
    "        self.limite_especial = self.limite_especial - valor\n",
    "\n",
    "    def Depositar(self, valor):\n",
    "        if valor.isspace() or not valor.isnumeric():\n",
    "            print('# Valor invalido!')\n",
    "        elif float(valor) < 0:\n",
    "            print('# Valor invalido!')\n",
    "        elif float(valor) > 0 and self.limite_especial < 400:\n",
    "            valor = float(valor)\n",
    "            valor_faltante_limite_especial = 400 - self.limite_especial\n",
    "\n",
    "            if valor > valor_faltante_limite_especial:\n",
    "                self.limite_especial += valor_faltante_limite_especial\n",
    "                self.saldo += valor - valor_faltante_limite_especial\n",
    "                self.extrato = f'# (Saldo) Deposito de R$ {valor - valor_faltante_limite_especial} no saldo -> {self.saldo}'\n",
    "                self.extrato = f'# (Limite Especial) Deposito de R$ {valor_faltante_limite_especial} no limite especial -> {self.limite_especial}'\n",
    "            else:\n",
    "                self.limite_especial += valor\n",
    "                self.extrato = f'# (Saldo) Deposito de R$ {0} no saldo -> {self.saldo}'\n",
    "                self.extrato = f'# (Limite Especial) Deposito de R$ {valor} no limite especial -> {self.limite_especial}'\n",
    "                \n",
    "            print(f'# Deposito de R$ {valor} realizado com sucesso!')\n",
    "            print(f'# Saldo: {self.saldo} - Limite Especial: {self.limite_especial}')\n",
    "        elif float(valor) > 0:\n",
    "            valor = float(valor)\n",
    "            self.saldo = self.saldo + valor\n",
    "            print(f'# Deposito de R$ {valor} realizado com sucesso!')\n",
    "            print(f'# Saldo: {self.saldo} - Limite Especial: {self.limite_especial}')\n",
    "            self.extrato = f'# (Saldo) Deposito de R$ {valor} -> {self.saldo}'"
   ]
  },
  {
   "cell_type": "code",
   "execution_count": 63,
   "id": "1938fbb0-dd40-4d36-802f-2ecdc0d85630",
   "metadata": {},
   "outputs": [],
   "source": [
    "class ContaPoupanca(Conta):\n",
    "    def __init__(self, titulares, data_de_criacao = datetime.now()):\n",
    "        super().__init__(titulares)\n",
    "        self.__rendimento = 1.5\n",
    "        self.__data_de_criacao = data_de_criacao\n",
    "\n",
    "    @property\n",
    "    def rendimento(self):\n",
    "        return self.__rendimento\n",
    "\n",
    "    @property\n",
    "    def data_de_criacao(self):\n",
    "        return self.__data_de_criacao\n",
    "\n",
    "    def InformacoesEspecificasDaConta(self):\n",
    "        print(f'# Saldo: {self.saldo} - Data de criacao: {self.data_de_criacao.strftime(\"%d/%m/%Y\")} - Rendimentos: {self.rendimento}')\n",
    "\n",
    "    def CalcularRendimentoMensal(self):\n",
    "        now = datetime.now()\n",
    "        meses = (now.year - self.data_de_criacao.year) * 12 + now.month - self.data_de_criacao.month\n",
    "        saldo_por_mes = (self.saldo * (self.rendimento/100))\n",
    "        self.saldo += (meses * saldo_por_mes)"
   ]
  },
  {
   "cell_type": "markdown",
   "id": "67949020-7bd0-4924-9c50-6b1dcf221b85",
   "metadata": {},
   "source": [
    "-----------------"
   ]
  },
  {
   "cell_type": "markdown",
   "id": "c8047233-96c5-4deb-be07-d2608aefabb5",
   "metadata": {
    "jp-MarkdownHeadingCollapsed": true,
    "tags": []
   },
   "source": [
    "#### 📌 Métodos auxiliares:\n",
    "- `PreCriacaoDeClientes()`: cria objetos do tipo `Cliente`, cria contas para esses clientes e adiciona as contas no canco Tatu.\n",
    "- `CriarConta()`: contém o fluxo de criação de uma conta até a adição dela ao banco Tatu."
   ]
  },
  {
   "cell_type": "code",
   "execution_count": 64,
   "id": "372c4c0c-d3bc-49ac-a332-e81b876dc48f",
   "metadata": {},
   "outputs": [],
   "source": [
    "def PreCriacaoDeClientes(tatu):\n",
    "    clienteJoao = Cliente('Joao', '51 98171 0800') # Conta Poupança\n",
    "    clienteMaria = Cliente('Maria', '51 98899 5678') # Conta Poupança\n",
    "    clienteLincoln = Cliente('Lincoln', '51 3098 0789') # Conta Poupança\n",
    "    clienteGiovana = Cliente('Giovana', '48 99322 8741') # Conta Corrente\n",
    "    clienteJonata = Cliente('Jonata Tyska Carvalho', '51 90801 0801') # Conta Corrente\n",
    "    clienteMateus = Cliente('Mateus Grellert', '51 90800 0800') # Conta Especial\n",
    "    \n",
    "    clientes = [clienteJoao, clienteMaria, clienteLincoln, clienteGiovana, clienteJonata, clienteMateus]\n",
    "    contasPoupanca = ContaPoupanca(clientes[:3], data_de_criacao = datetime(2021,10,14))\n",
    "    contasCorrente = ContaCorrente(clientes[3:5])\n",
    "    contasEspecial = ContaEspecial(clientes[5:])\n",
    "    tatu.AdicionarContaPoupanca(contasPoupanca)\n",
    "    tatu.AdicionarContaCorrente(contasCorrente)\n",
    "    tatu.AdicionarContaEspecial(contasEspecial)"
   ]
  },
  {
   "cell_type": "code",
   "execution_count": 65,
   "id": "dd785a38-e8a7-4dad-b63c-2ca7e46c1ce6",
   "metadata": {},
   "outputs": [],
   "source": [
    "def CriarConta(banco):\n",
    "    print('# CRIACAO DE CONTA')\n",
    "    nome = input('> Digite seu nome: ')\n",
    "    telefone = input('> Digite seu telefone com DDD (somente numeros): ')\n",
    "    novoCliente = Cliente(nome, telefone)\n",
    "\n",
    "    tipo_de_conta = ''\n",
    "    while tipo_de_conta not in ['corrente', 'poupanca', 'corrente', 'z']:\n",
    "        tipo_de_conta = input('> Escolha o tipo de conta: [CORRENTE/POUPANCA/ESPECIAL]').lower()\n",
    "        if tipo_de_conta == 'z':\n",
    "            exit()\n",
    "        elif tipo_de_conta == 'corrente':\n",
    "            banco.AdicionarContaCorrente(ContaCorrente([novoCliente]))\n",
    "        elif tipo_de_conta == 'poupanca':\n",
    "            banco.AdicionarContaPoupanca(ContaPoupanca([novoCliente]))\n",
    "        elif tipo_de_conta == 'especial':\n",
    "            banco.AdicionarContaEspecial(ContaEspecial([novoCliente]))\n",
    "    return nome"
   ]
  },
  {
   "cell_type": "markdown",
   "id": "9a067a33-07ad-4256-a684-9bb95f087d7c",
   "metadata": {
    "tags": []
   },
   "source": [
    "-----------------\n",
    "## Menu Interativo"
   ]
  },
  {
   "cell_type": "markdown",
   "id": "188dec75-15f1-4492-afc1-f5c8e0f0a58a",
   "metadata": {
    "tags": []
   },
   "source": [
    "#### 🕹️ Utilize esse **menu** para ter uma interação com as classes e o código desenvolvido:\n",
    "**[Opção]:** _Ação que aquela opção realiza_ <br/>\n",
    "\n",
    "> **[1]:** Visualizar todas contas do banco tatu <br/>\n",
    "**[2]:** Visualizar todos clientes do banco tatu <br/>\n",
    "**[3]:** Sacar <br/>\n",
    "**[4]:** Depositar <br/>\n",
    "**[5]:** Tirar extrato <br/>\n",
    "**[6]:** Informacoes Especificas da Conta <br/>\n",
    "**[z]:** Sair <br/>\n",
    "\n",
    "Obs: A opção para encontrar a conta logo no inicio do programa (`Voce ja tem uma conta: 'respota > sim' [S]`) releva qualquer parte do(s) nome(s) dos clientes já criados para fim de desenvolver um fluxo rápido de teste."
   ]
  },
  {
   "cell_type": "code",
   "execution_count": 66,
   "id": "78817315-970a-44ad-bc0d-6db563143142",
   "metadata": {},
   "outputs": [],
   "source": [
    "def Menu(tatu, conta):\n",
    "    opcao_escolhida = 0\n",
    "\n",
    "    while True:  \n",
    "        print('')\n",
    "        print('# MENU')\n",
    "        print('[1]: Visualizar todas contas do banco tatu')\n",
    "        print('[2]: Visualizar todos clientes do banco tatu')\n",
    "        print('[3]: Sacar')\n",
    "        print('[4]: Depositar')\n",
    "        print('[5]: Tirar extrato')\n",
    "        print('[6]: Informacoes Especificas da Conta')\n",
    "        print('[z]: Sair')\n",
    "\n",
    "        opcao_escolhida = input('> Escolha uma opcao: ')\n",
    "\n",
    "        if opcao_escolhida.lower() == 'z':\n",
    "            break\n",
    "\n",
    "        if opcao_escolhida == '1':\n",
    "            tatu.VisualizarInformacoesContas()\n",
    "        elif opcao_escolhida == '2':\n",
    "            print('')\n",
    "            tatu.VisualizarClientes()\n",
    "        elif opcao_escolhida == '3':\n",
    "            print('')\n",
    "            valor = input('> Digite um valor que deseja sacar: ')\n",
    "            conta.Sacar(valor)\n",
    "        elif opcao_escolhida == '4':        \n",
    "            print('')\n",
    "            valor = input('> Digite o valor que deseja depositar: ')\n",
    "            conta.Depositar(valor)\n",
    "        elif opcao_escolhida == '5':\n",
    "            print('')\n",
    "            conta.TirarExtrato()        \n",
    "        elif opcao_escolhida == '6':\n",
    "            print('')\n",
    "            conta.InformacoesEspecificasDaConta()\n",
    "        else:\n",
    "            print('# Opcao invalida!')"
   ]
  },
  {
   "cell_type": "code",
   "execution_count": 74,
   "id": "0c9d13c7-c18b-478f-be41-30318e841753",
   "metadata": {},
   "outputs": [
    {
     "name": "stdout",
     "output_type": "stream",
     "text": [
      "# Exercicio 1 - Banco\n",
      "# BEM VINDO AO BANCO TATU\n",
      "[Pressione Z para sair]\n",
      "\n"
     ]
    },
    {
     "name": "stdin",
     "output_type": "stream",
     "text": [
      "# Voce ja tem uma conta: [S/N/Z]  s\n",
      "> Digite seu nome e sobrenome:  H\n"
     ]
    },
    {
     "name": "stdout",
     "output_type": "stream",
     "text": [
      "\n",
      "# Ola Jonata Tyska Carvalho! Conta Corrente\n",
      "# Saldo: 0\n",
      "\n",
      "# MENU\n",
      "[1]: Visualizar todas contas do banco tatu\n",
      "[2]: Visualizar todos clientes do banco tatu\n",
      "[3]: Sacar\n",
      "[4]: Depositar\n",
      "[5]: Tirar extrato\n",
      "[6]: Informacoes Especificas da Conta\n",
      "[z]: Sair\n"
     ]
    },
    {
     "name": "stdin",
     "output_type": "stream",
     "text": [
      "> Escolha uma opcao:  1\n"
     ]
    },
    {
     "name": "stdout",
     "output_type": "stream",
     "text": [
      "\n",
      "# CONTAS POUPANCA\n",
      "Conta 0\n",
      "[Saldo]: 0\n",
      "[Joao]: 51 98171 0800\n",
      "[Maria]: 51 98899 5678\n",
      "[Lincoln]: 51 3098 0789\n",
      "\n",
      "# CONTAS CORRENTE\n",
      "Conta 1\n",
      "[Saldo]: 0\n",
      "[Giovana]: 48 99322 8741\n",
      "[Jonata Tyska Carvalho]: 51 90801 0801\n",
      "\n",
      "# CONTAS ESPECIAIS\n",
      "Conta 2\n",
      "[Saldo]: 0\n",
      "[Mateus Grellert]: 51 90800 0800\n",
      "\n",
      "# MENU\n",
      "[1]: Visualizar todas contas do banco tatu\n",
      "[2]: Visualizar todos clientes do banco tatu\n",
      "[3]: Sacar\n",
      "[4]: Depositar\n",
      "[5]: Tirar extrato\n",
      "[6]: Informacoes Especificas da Conta\n",
      "[z]: Sair\n"
     ]
    },
    {
     "name": "stdin",
     "output_type": "stream",
     "text": [
      "> Escolha uma opcao:  2\n"
     ]
    },
    {
     "name": "stdout",
     "output_type": "stream",
     "text": [
      "\n",
      "[Joao]: 51 98171 0800\n",
      "[Maria]: 51 98899 5678\n",
      "[Lincoln]: 51 3098 0789\n",
      "[Giovana]: 48 99322 8741\n",
      "[Jonata Tyska Carvalho]: 51 90801 0801\n",
      "[Mateus Grellert]: 51 90800 0800\n",
      "\n",
      "# MENU\n",
      "[1]: Visualizar todas contas do banco tatu\n",
      "[2]: Visualizar todos clientes do banco tatu\n",
      "[3]: Sacar\n",
      "[4]: Depositar\n",
      "[5]: Tirar extrato\n",
      "[6]: Informacoes Especificas da Conta\n",
      "[z]: Sair\n"
     ]
    },
    {
     "name": "stdin",
     "output_type": "stream",
     "text": [
      "> Escolha uma opcao:  3\n"
     ]
    },
    {
     "name": "stdout",
     "output_type": "stream",
     "text": [
      "\n"
     ]
    },
    {
     "name": "stdin",
     "output_type": "stream",
     "text": [
      "> Digite um valor que deseja sacar:  10\n"
     ]
    },
    {
     "name": "stdout",
     "output_type": "stream",
     "text": [
      "# Saldo insuficiente! Não foi possivel realizar a operação.\n",
      "\n",
      "# MENU\n",
      "[1]: Visualizar todas contas do banco tatu\n",
      "[2]: Visualizar todos clientes do banco tatu\n",
      "[3]: Sacar\n",
      "[4]: Depositar\n",
      "[5]: Tirar extrato\n",
      "[6]: Informacoes Especificas da Conta\n",
      "[z]: Sair\n"
     ]
    },
    {
     "name": "stdin",
     "output_type": "stream",
     "text": [
      "> Escolha uma opcao:  4\n"
     ]
    },
    {
     "name": "stdout",
     "output_type": "stream",
     "text": [
      "\n"
     ]
    },
    {
     "name": "stdin",
     "output_type": "stream",
     "text": [
      "> Digite o valor que deseja depositar:  100\n"
     ]
    },
    {
     "name": "stdout",
     "output_type": "stream",
     "text": [
      "# Deposito de R$ 100.0 realizado com sucesso!\n",
      "# Saldo: 100.0\n",
      "\n",
      "# MENU\n",
      "[1]: Visualizar todas contas do banco tatu\n",
      "[2]: Visualizar todos clientes do banco tatu\n",
      "[3]: Sacar\n",
      "[4]: Depositar\n",
      "[5]: Tirar extrato\n",
      "[6]: Informacoes Especificas da Conta\n",
      "[z]: Sair\n"
     ]
    },
    {
     "name": "stdin",
     "output_type": "stream",
     "text": [
      "> Escolha uma opcao:  3\n"
     ]
    },
    {
     "name": "stdout",
     "output_type": "stream",
     "text": [
      "\n"
     ]
    },
    {
     "name": "stdin",
     "output_type": "stream",
     "text": [
      "> Digite um valor que deseja sacar:  10\n"
     ]
    },
    {
     "name": "stdout",
     "output_type": "stream",
     "text": [
      "# Saque de R$ 10.0 realizado com sucesso!\n",
      "# Saldo: 90.0\n",
      "\n",
      "# MENU\n",
      "[1]: Visualizar todas contas do banco tatu\n",
      "[2]: Visualizar todos clientes do banco tatu\n",
      "[3]: Sacar\n",
      "[4]: Depositar\n",
      "[5]: Tirar extrato\n",
      "[6]: Informacoes Especificas da Conta\n",
      "[z]: Sair\n"
     ]
    },
    {
     "name": "stdin",
     "output_type": "stream",
     "text": [
      "> Escolha uma opcao:  5\n"
     ]
    },
    {
     "name": "stdout",
     "output_type": "stream",
     "text": [
      "\n",
      "# Extrato:\n",
      "# Saldo: 90.0\n",
      "[0]: # (Saldo) Deposito de R$ 100.0 -> 100.0\n",
      "[1]: # (Saldo) Saque de R$ 10.0 -> 90.0\n",
      "\n",
      "# MENU\n",
      "[1]: Visualizar todas contas do banco tatu\n",
      "[2]: Visualizar todos clientes do banco tatu\n",
      "[3]: Sacar\n",
      "[4]: Depositar\n",
      "[5]: Tirar extrato\n",
      "[6]: Informacoes Especificas da Conta\n",
      "[z]: Sair\n"
     ]
    },
    {
     "name": "stdin",
     "output_type": "stream",
     "text": [
      "> Escolha uma opcao:  6\n"
     ]
    },
    {
     "name": "stdout",
     "output_type": "stream",
     "text": [
      "\n",
      "# Saldo: 90.0\n",
      "\n",
      "# MENU\n",
      "[1]: Visualizar todas contas do banco tatu\n",
      "[2]: Visualizar todos clientes do banco tatu\n",
      "[3]: Sacar\n",
      "[4]: Depositar\n",
      "[5]: Tirar extrato\n",
      "[6]: Informacoes Especificas da Conta\n",
      "[z]: Sair\n"
     ]
    },
    {
     "name": "stdin",
     "output_type": "stream",
     "text": [
      "> Escolha uma opcao:  z\n"
     ]
    }
   ],
   "source": [
    "print('# Exercicio 1 - Banco')\n",
    "print('# BEM VINDO AO BANCO TATU')\n",
    "print('[Pressione Z para sair]')\n",
    "print('')\n",
    "\n",
    "sair = False\n",
    "tatu = Banco()\n",
    "\n",
    "PreCriacaoDeClientes(tatu)\n",
    "\n",
    "nome = ''\n",
    "\n",
    "while not sair:\n",
    "    verify_exite_conta = ''\n",
    "    while verify_exite_conta != 's' and verify_exite_conta != 'n' and verify_exite_conta != 'z':\n",
    "        verify_exite_conta = input('# Voce ja tem uma conta: [S/N/Z] ').lower()\n",
    "\n",
    "    if verify_exite_conta == 's':\n",
    "        while True:\n",
    "            nome = input('> Digite seu nome e sobrenome: ')\n",
    "            cliente = tatu.ProcurarCliente(nome)\n",
    "            if cliente:\n",
    "                print('')\n",
    "                conta = tatu.ProcurarConta(nome)\n",
    "                nome_conta = str(re.sub(r\"(\\w)([A-Z])\", r\"\\1 \\2\", type(conta).__name__))\n",
    "                print(f'# Ola {cliente}! {nome_conta}')\n",
    "                conta.InformacoesEspecificasDaConta()\n",
    "                break\n",
    "            else:\n",
    "                print('# Cliente nao encontrado!')\n",
    "    elif verify_exite_conta == 'z':\n",
    "        break\n",
    "    else:\n",
    "        nome = CriarConta(tatu)\n",
    "\n",
    "    Menu(tatu, tatu.ProcurarConta(nome))\n",
    "    break"
   ]
  }
 ],
 "metadata": {
  "kernelspec": {
   "display_name": "Python 3 (ipykernel)",
   "language": "python",
   "name": "python3"
  },
  "language_info": {
   "codemirror_mode": {
    "name": "ipython",
    "version": 3
   },
   "file_extension": ".py",
   "mimetype": "text/x-python",
   "name": "python",
   "nbconvert_exporter": "python",
   "pygments_lexer": "ipython3",
   "version": "3.8.10"
  }
 },
 "nbformat": 4,
 "nbformat_minor": 5
}
